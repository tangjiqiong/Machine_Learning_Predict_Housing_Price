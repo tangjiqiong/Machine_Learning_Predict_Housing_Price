{
  "cells": [
    {
      "cell_type": "markdown",
      "metadata": {
        "id": "eVPIvsYl9T9U"
      },
      "source": [
        "# MGTF 495: Project Part 1\n",
        "# Housing Sale Price Prediction"
      ]
    },
    {
      "cell_type": "code",
      "execution_count": null,
      "metadata": {
        "id": "0ByMUOlP9T9Y"
      },
      "outputs": [],
      "source": [
        "import numpy as np\n",
        "import pandas as pd\n",
        "from sklearn.metrics import mean_squared_error\n",
        "\n",
        "from sklearn.preprocessing import PowerTransformer\n",
        "from sklearn.preprocessing import StandardScaler\n",
        "from sklearn.pipeline import make_pipeline\n",
        "from sklearn.preprocessing import RobustScaler\n",
        "\n",
        "import matplotlib.pyplot as plt\n",
        "import seaborn as sns"
      ]
    },
    {
      "cell_type": "code",
      "execution_count": null,
      "metadata": {
        "id": "bhMnIKrIhEku"
      },
      "outputs": [],
      "source": [
        "!gdown --id 13yU822Ba1ZblG7L1MKOzCzYkVAZeZRa8\n",
        "!gdown --id 1pe6B2WNqOKVYv26hRZVwwXJQVtVCcbA1"
      ]
    },
    {
      "cell_type": "code",
      "execution_count": null,
      "metadata": {
        "id": "pt0Ohfva9T9Z"
      },
      "outputs": [],
      "source": [
        "train = pd.read_csv('train_new.csv')\n",
        "test = pd.read_csv('test_new.csv')"
      ]
    },
    {
      "cell_type": "code",
      "execution_count": null,
      "metadata": {
        "colab": {
          "base_uri": "https://localhost:8080/"
        },
        "id": "qWaS3a5P9T9Z",
        "outputId": "9c528626-0729-4e3a-c62f-8bd215e8afad"
      },
      "outputs": [
        {
          "name": "stdout",
          "output_type": "stream",
          "text": [
            "The train data size before dropping Id feature is : (2051, 81) \n",
            "The test data size before dropping Id feature is : (879, 80) \n",
            "\n",
            "The train data size after dropping Id feature is : (2051, 80) \n",
            "The test data size after dropping Id feature is : (879, 79) \n"
          ]
        }
      ],
      "source": [
        "#check the numbers of samples and features\n",
        "print(\"The train data size before dropping Id feature is : {} \".format(train.shape))\n",
        "print(\"The test data size before dropping Id feature is : {} \".format(test.shape))\n",
        "\n",
        "#Save the 'Id' column\n",
        "train_ID = train['ID']\n",
        "test_ID = test['ID']\n",
        "\n",
        "#Now drop the  'Id' colum since it's unnecessary for  the prediction process.\n",
        "train.drop(\"ID\", axis = 1, inplace = True)\n",
        "test.drop(\"ID\", axis = 1, inplace = True)\n",
        "\n",
        "#check again the data size after dropping the 'Id' variable\n",
        "print(\"\\nThe train data size after dropping Id feature is : {} \".format(train.shape)) \n",
        "print(\"The test data size after dropping Id feature is : {} \".format(test.shape))"
      ]
    },
    {
      "cell_type": "code",
      "execution_count": null,
      "metadata": {
        "id": "x7MHijqs9T9b"
      },
      "outputs": [],
      "source": [
        "def rmse(y_true, y_pred):\n",
        "    \"\"\"Root Mean Squared Error\"\"\"\n",
        "    return np.sqrt(mean_squared_error(y_true, y_pred))"
      ]
    },
    {
      "cell_type": "markdown",
      "metadata": {
        "id": "BWVZyR5QhEkw"
      },
      "source": [
        "### Label Log"
      ]
    },
    {
      "cell_type": "code",
      "execution_count": null,
      "metadata": {
        "colab": {
          "base_uri": "https://localhost:8080/",
          "height": 364
        },
        "id": "YONGW4A-hEkx",
        "outputId": "e16c1993-d026-4a51-b154-848f9d152a5e"
      },
      "outputs": [
        {
          "name": "stderr",
          "output_type": "stream",
          "text": [
            "/usr/local/lib/python3.7/dist-packages/seaborn/distributions.py:2619: FutureWarning: `distplot` is a deprecated function and will be removed in a future version. Please adapt your code to use either `displot` (a figure-level function with similar flexibility) or `histplot` (an axes-level function for histograms).\n",
            "  warnings.warn(msg, FutureWarning)\n"
          ]
        },
        {
          "data": {
            "text/plain": [
              "<matplotlib.axes._subplots.AxesSubplot at 0x7f5db9f541d0>"
            ]
          },
          "execution_count": 7,
          "metadata": {},
          "output_type": "execute_result"
        },
        {
          "data": {
            "image/png": "[encoded data removed]",
            "text/plain": [
              "<Figure size 432x288 with 1 Axes>"
            ]
          },
          "metadata": {
            "needs_background": "light"
          },
          "output_type": "display_data"
        }
      ],
      "source": [
        "sns.distplot(train['SalePrice'])"
      ]
    },
    {
      "cell_type": "code",
      "execution_count": null,
      "metadata": {
        "id": "JHiouh9OhEky"
      },
      "outputs": [],
      "source": [
        "train['SalePrice'] = np.log(train['SalePrice'])"
      ]
    },
    {
      "cell_type": "markdown",
      "metadata": {
        "id": "73shJo0DhEkz"
      },
      "source": [
        "## Data Preparation \n",
        "### Analyze and preprocess the data\n",
        "` num: drop features according to the correlation with Saleprice`\n",
        "` text: analyze and delete`"
      ]
    },
    {
      "cell_type": "code",
      "execution_count": null,
      "metadata": {
        "colab": {
          "base_uri": "https://localhost:8080/"
        },
        "id": "s9iHwr37hEkz",
        "outputId": "a5161c8b-091d-43fe-9c25-80d084daa500"
      },
      "outputs": [
        {
          "data": {
            "text/plain": [
              "879"
            ]
          },
          "execution_count": 9,
          "metadata": {},
          "output_type": "execute_result"
        }
      ],
      "source": [
        "features = train.iloc[:,:-1]\n",
        "\n",
        "n_train = features.shape[0]\n",
        "n_train\n",
        "n_test = test.shape[0]\n",
        "n_test"
      ]
    },
    {
      "cell_type": "markdown",
      "metadata": {
        "id": "EttAJclahEkz"
      },
      "source": [
        "#### Drop the outliers"
      ]
    },
    {
      "cell_type": "code",
      "execution_count": null,
      "metadata": {
        "colab": {
          "base_uri": "https://localhost:8080/",
          "height": 394
        },
        "id": "KNhhxBHPhEk0",
        "outputId": "d5914333-1fc5-4353-9539-16323bc3650d"
      },
      "outputs": [
        {
          "data": {
            "text/html": [
              "\n",
              "  <div id=\"df-d070955c-b7f4-40ca-b8cc-8e6c558b29a7\">\n",
              "    <div class=\"colab-df-container\">\n",
              "      <div>\n",
              "<style scoped>\n",
              "    .dataframe tbody tr th:only-of-type {\n",
              "        vertical-align: middle;\n",
              "    }\n",
              "\n",
              "    .dataframe tbody tr th {\n",
              "        vertical-align: top;\n",
              "    }\n",
              "\n",
              "    .dataframe thead th {\n",
              "        text-align: right;\n",
              "    }\n",
              "</style>\n",
              "<table border=\"1\" class=\"dataframe\">\n",
              "  <thead>\n",
              "    <tr style=\"text-align: right;\">\n",
              "      <th></th>\n",
              "      <th>BsmtUnfinishedArea</th>\n",
              "      <th>LivingArea</th>\n",
              "      <th>HalfBaths</th>\n",
              "      <th>LotFrontage</th>\n",
              "      <th>YearRemodelled</th>\n",
              "      <th>MasVnrArea</th>\n",
              "      <th>EnclosedPorchArea</th>\n",
              "      <th>PoolSize</th>\n",
              "      <th>BsmtFullBaths</th>\n",
              "      <th>ScreenPorchArea</th>\n",
              "      <th>...</th>\n",
              "      <th>GarageArea</th>\n",
              "      <th>BsmtFinish1Area</th>\n",
              "      <th>Quality</th>\n",
              "      <th>LotSize</th>\n",
              "      <th>Kitchens</th>\n",
              "      <th>GarageYearBuilt</th>\n",
              "      <th>BuildingClass</th>\n",
              "      <th>2ndFloorArea</th>\n",
              "      <th>1stFloorArea</th>\n",
              "      <th>SalePrice</th>\n",
              "    </tr>\n",
              "  </thead>\n",
              "  <tbody>\n",
              "    <tr>\n",
              "      <th>count</th>\n",
              "      <td>2051.000000</td>\n",
              "      <td>2051.000000</td>\n",
              "      <td>2051.000000</td>\n",
              "      <td>1708.000000</td>\n",
              "      <td>2051.000000</td>\n",
              "      <td>2036.000000</td>\n",
              "      <td>2051.000000</td>\n",
              "      <td>2051.000000</td>\n",
              "      <td>2051.000000</td>\n",
              "      <td>2051.000000</td>\n",
              "      <td>...</td>\n",
              "      <td>2050.000000</td>\n",
              "      <td>2051.000000</td>\n",
              "      <td>2051.000000</td>\n",
              "      <td>2051.00000</td>\n",
              "      <td>2051.000000</td>\n",
              "      <td>1937.000000</td>\n",
              "      <td>2051.000000</td>\n",
              "      <td>2051.000000</td>\n",
              "      <td>2051.000000</td>\n",
              "      <td>2051.000000</td>\n",
              "    </tr>\n",
              "    <tr>\n",
              "      <th>mean</th>\n",
              "      <td>713.812287</td>\n",
              "      <td>1491.158459</td>\n",
              "      <td>0.375427</td>\n",
              "      <td>68.957260</td>\n",
              "      <td>1983.921502</td>\n",
              "      <td>98.312377</td>\n",
              "      <td>23.281326</td>\n",
              "      <td>1.682594</td>\n",
              "      <td>0.433447</td>\n",
              "      <td>15.856168</td>\n",
              "      <td>...</td>\n",
              "      <td>471.782439</td>\n",
              "      <td>485.005851</td>\n",
              "      <td>6.062896</td>\n",
              "      <td>10149.16626</td>\n",
              "      <td>1.042418</td>\n",
              "      <td>1977.805885</td>\n",
              "      <td>56.969771</td>\n",
              "      <td>572.461726</td>\n",
              "      <td>2202.971234</td>\n",
              "      <td>12.213050</td>\n",
              "    </tr>\n",
              "    <tr>\n",
              "      <th>std</th>\n",
              "      <td>468.128294</td>\n",
              "      <td>505.773176</td>\n",
              "      <td>0.502152</td>\n",
              "      <td>23.690049</td>\n",
              "      <td>21.038876</td>\n",
              "      <td>175.675222</td>\n",
              "      <td>61.154577</td>\n",
              "      <td>30.620943</td>\n",
              "      <td>0.530837</td>\n",
              "      <td>55.909712</td>\n",
              "      <td>...</td>\n",
              "      <td>217.014929</td>\n",
              "      <td>482.990709</td>\n",
              "      <td>1.423305</td>\n",
              "      <td>8408.22880</td>\n",
              "      <td>0.211048</td>\n",
              "      <td>26.017467</td>\n",
              "      <td>42.241709</td>\n",
              "      <td>429.773669</td>\n",
              "      <td>390.303146</td>\n",
              "      <td>0.369913</td>\n",
              "    </tr>\n",
              "    <tr>\n",
              "      <th>min</th>\n",
              "      <td>0.000000</td>\n",
              "      <td>407.000000</td>\n",
              "      <td>0.000000</td>\n",
              "      <td>21.000000</td>\n",
              "      <td>1950.000000</td>\n",
              "      <td>0.000000</td>\n",
              "      <td>0.000000</td>\n",
              "      <td>0.000000</td>\n",
              "      <td>0.000000</td>\n",
              "      <td>0.000000</td>\n",
              "      <td>...</td>\n",
              "      <td>0.000000</td>\n",
              "      <td>0.000000</td>\n",
              "      <td>1.000000</td>\n",
              "      <td>1300.00000</td>\n",
              "      <td>0.000000</td>\n",
              "      <td>1895.000000</td>\n",
              "      <td>20.000000</td>\n",
              "      <td>0.000000</td>\n",
              "      <td>1416.000000</td>\n",
              "      <td>10.386346</td>\n",
              "    </tr>\n",
              "    <tr>\n",
              "      <th>25%</th>\n",
              "      <td>351.000000</td>\n",
              "      <td>1121.500000</td>\n",
              "      <td>0.000000</td>\n",
              "      <td>58.000000</td>\n",
              "      <td>1964.000000</td>\n",
              "      <td>0.000000</td>\n",
              "      <td>0.000000</td>\n",
              "      <td>0.000000</td>\n",
              "      <td>0.000000</td>\n",
              "      <td>0.000000</td>\n",
              "      <td>...</td>\n",
              "      <td>319.000000</td>\n",
              "      <td>0.000000</td>\n",
              "      <td>5.000000</td>\n",
              "      <td>7447.50000</td>\n",
              "      <td>1.000000</td>\n",
              "      <td>1960.000000</td>\n",
              "      <td>20.000000</td>\n",
              "      <td>252.000000</td>\n",
              "      <td>1918.000000</td>\n",
              "      <td>11.986772</td>\n",
              "    </tr>\n",
              "    <tr>\n",
              "      <th>50%</th>\n",
              "      <td>613.000000</td>\n",
              "      <td>1432.000000</td>\n",
              "      <td>0.000000</td>\n",
              "      <td>67.500000</td>\n",
              "      <td>1993.000000</td>\n",
              "      <td>0.000000</td>\n",
              "      <td>0.000000</td>\n",
              "      <td>0.000000</td>\n",
              "      <td>0.000000</td>\n",
              "      <td>0.000000</td>\n",
              "      <td>...</td>\n",
              "      <td>480.000000</td>\n",
              "      <td>433.000000</td>\n",
              "      <td>6.000000</td>\n",
              "      <td>9375.00000</td>\n",
              "      <td>1.000000</td>\n",
              "      <td>1979.000000</td>\n",
              "      <td>50.000000</td>\n",
              "      <td>252.000000</td>\n",
              "      <td>2132.000000</td>\n",
              "      <td>12.175010</td>\n",
              "    </tr>\n",
              "    <tr>\n",
              "      <th>75%</th>\n",
              "      <td>993.000000</td>\n",
              "      <td>1734.000000</td>\n",
              "      <td>1.000000</td>\n",
              "      <td>80.000000</td>\n",
              "      <td>2004.000000</td>\n",
              "      <td>158.750000</td>\n",
              "      <td>0.000000</td>\n",
              "      <td>0.000000</td>\n",
              "      <td>1.000000</td>\n",
              "      <td>0.000000</td>\n",
              "      <td>...</td>\n",
              "      <td>576.000000</td>\n",
              "      <td>798.000000</td>\n",
              "      <td>7.000000</td>\n",
              "      <td>11402.00000</td>\n",
              "      <td>1.000000</td>\n",
              "      <td>2002.000000</td>\n",
              "      <td>70.000000</td>\n",
              "      <td>941.500000</td>\n",
              "      <td>2418.500000</td>\n",
              "      <td>12.440057</td>\n",
              "    </tr>\n",
              "    <tr>\n",
              "      <th>max</th>\n",
              "      <td>2360.000000</td>\n",
              "      <td>5642.000000</td>\n",
              "      <td>2.000000</td>\n",
              "      <td>313.000000</td>\n",
              "      <td>2010.000000</td>\n",
              "      <td>1600.000000</td>\n",
              "      <td>552.000000</td>\n",
              "      <td>738.000000</td>\n",
              "      <td>3.000000</td>\n",
              "      <td>576.000000</td>\n",
              "      <td>...</td>\n",
              "      <td>1488.000000</td>\n",
              "      <td>5708.000000</td>\n",
              "      <td>10.000000</td>\n",
              "      <td>215245.00000</td>\n",
              "      <td>3.000000</td>\n",
              "      <td>2207.000000</td>\n",
              "      <td>190.000000</td>\n",
              "      <td>2124.000000</td>\n",
              "      <td>6139.000000</td>\n",
              "      <td>13.651836</td>\n",
              "    </tr>\n",
              "  </tbody>\n",
              "</table>\n",
              "<p>8 rows × 37 columns</p>\n",
              "</div>\n",
              "      <button class=\"colab-df-convert\" onclick=\"convertToInteractive('df-d070955c-b7f4-40ca-b8cc-8e6c558b29a7')\"\n",
              "              title=\"Convert this dataframe to an interactive table.\"\n",
              "              style=\"display:none;\">\n",
              "        \n",
              "  <svg xmlns=\"http://www.w3.org/2000/svg\" height=\"24px\"viewBox=\"0 0 24 24\"\n",
              "       width=\"24px\">\n",
              "    <path d=\"M0 0h24v24H0V0z\" fill=\"none\"/>\n",
              "    <path d=\"M18.56 5.44l.94 2.06.94-2.06 2.06-.94-2.06-.94-.94-2.06-.94 2.06-2.06.94zm-11 1L8.5 8.5l.94-2.06 2.06-.94-2.06-.94L8.5 2.5l-.94 2.06-2.06.94zm10 10l.94 2.06.94-2.06 2.06-.94-2.06-.94-.94-2.06-.94 2.06-2.06.94z\"/><path d=\"M17.41 7.96l-1.37-1.37c-.4-.4-.92-.59-1.43-.59-.52 0-1.04.2-1.43.59L10.3 9.45l-7.72 7.72c-.78.78-.78 2.05 0 2.83L4 21.41c.39.39.9.59 1.41.59.51 0 1.02-.2 1.41-.59l7.78-7.78 2.81-2.81c.8-.78.8-2.07 0-2.86zM5.41 20L4 18.59l7.72-7.72 1.47 1.35L5.41 20z\"/>\n",
              "  </svg>\n",
              "      </button>\n",
              "      \n",
              "  <style>\n",
              "    .colab-df-container {\n",
              "      display:flex;\n",
              "      flex-wrap:wrap;\n",
              "      gap: 12px;\n",
              "    }\n",
              "\n",
              "    .colab-df-convert {\n",
              "      background-color: #E8F0FE;\n",
              "      border: none;\n",
              "      border-radius: 50%;\n",
              "      cursor: pointer;\n",
              "      display: none;\n",
              "      fill: #1967D2;\n",
              "      height: 32px;\n",
              "      padding: 0 0 0 0;\n",
              "      width: 32px;\n",
              "    }\n",
              "\n",
              "    .colab-df-convert:hover {\n",
              "      background-color: #E2EBFA;\n",
              "      box-shadow: 0px 1px 2px rgba(60, 64, 67, 0.3), 0px 1px 3px 1px rgba(60, 64, 67, 0.15);\n",
              "      fill: #174EA6;\n",
              "    }\n",
              "\n",
              "    [theme=dark] .colab-df-convert {\n",
              "      background-color: #3B4455;\n",
              "      fill: #D2E3FC;\n",
              "    }\n",
              "\n",
              "    [theme=dark] .colab-df-convert:hover {\n",
              "      background-color: #434B5C;\n",
              "      box-shadow: 0px 1px 3px 1px rgba(0, 0, 0, 0.15);\n",
              "      filter: drop-shadow(0px 1px 2px rgba(0, 0, 0, 0.3));\n",
              "      fill: #FFFFFF;\n",
              "    }\n",
              "  </style>\n",
              "\n",
              "      <script>\n",
              "        const buttonEl =\n",
              "          document.querySelector('#df-d070955c-b7f4-40ca-b8cc-8e6c558b29a7 button.colab-df-convert');\n",
              "        buttonEl.style.display =\n",
              "          google.colab.kernel.accessAllowed ? 'block' : 'none';\n",
              "\n",
              "        async function convertToInteractive(key) {\n",
              "          const element = document.querySelector('#df-d070955c-b7f4-40ca-b8cc-8e6c558b29a7');\n",
              "          const dataTable =\n",
              "            await google.colab.kernel.invokeFunction('convertToInteractive',\n",
              "                                                     [key], {});\n",
              "          if (!dataTable) return;\n",
              "\n",
              "          const docLinkHtml = 'Like what you see? Visit the ' +\n",
              "            '<a target=\"_blank\" href=https://colab.research.google.com/notebooks/data_table.ipynb>data table notebook</a>'\n",
              "            + ' to learn more about interactive tables.';\n",
              "          element.innerHTML = '';\n",
              "          dataTable['output_type'] = 'display_data';\n",
              "          await google.colab.output.renderOutput(dataTable, element);\n",
              "          const docLink = document.createElement('div');\n",
              "          docLink.innerHTML = docLinkHtml;\n",
              "          element.appendChild(docLink);\n",
              "        }\n",
              "      </script>\n",
              "    </div>\n",
              "  </div>\n",
              "  "
            ],
            "text/plain": [
              "       BsmtUnfinishedArea   LivingArea    HalfBaths  LotFrontage  \\\n",
              "count         2051.000000  2051.000000  2051.000000  1708.000000   \n",
              "mean           713.812287  1491.158459     0.375427    68.957260   \n",
              "std            468.128294   505.773176     0.502152    23.690049   \n",
              "min              0.000000   407.000000     0.000000    21.000000   \n",
              "25%            351.000000  1121.500000     0.000000    58.000000   \n",
              "50%            613.000000  1432.000000     0.000000    67.500000   \n",
              "75%            993.000000  1734.000000     1.000000    80.000000   \n",
              "max           2360.000000  5642.000000     2.000000   313.000000   \n",
              "\n",
              "       YearRemodelled   MasVnrArea  EnclosedPorchArea     PoolSize  \\\n",
              "count     2051.000000  2036.000000        2051.000000  2051.000000   \n",
              "mean      1983.921502    98.312377          23.281326     1.682594   \n",
              "std         21.038876   175.675222          61.154577    30.620943   \n",
              "min       1950.000000     0.000000           0.000000     0.000000   \n",
              "25%       1964.000000     0.000000           0.000000     0.000000   \n",
              "50%       1993.000000     0.000000           0.000000     0.000000   \n",
              "75%       2004.000000   158.750000           0.000000     0.000000   \n",
              "max       2010.000000  1600.000000         552.000000   738.000000   \n",
              "\n",
              "       BsmtFullBaths  ScreenPorchArea  ...   GarageArea  BsmtFinish1Area  \\\n",
              "count    2051.000000      2051.000000  ...  2050.000000      2051.000000   \n",
              "mean        0.433447        15.856168  ...   471.782439       485.005851   \n",
              "std         0.530837        55.909712  ...   217.014929       482.990709   \n",
              "min         0.000000         0.000000  ...     0.000000         0.000000   \n",
              "25%         0.000000         0.000000  ...   319.000000         0.000000   \n",
              "50%         0.000000         0.000000  ...   480.000000       433.000000   \n",
              "75%         1.000000         0.000000  ...   576.000000       798.000000   \n",
              "max         3.000000       576.000000  ...  1488.000000      5708.000000   \n",
              "\n",
              "           Quality       LotSize     Kitchens  GarageYearBuilt  BuildingClass  \\\n",
              "count  2051.000000    2051.00000  2051.000000      1937.000000    2051.000000   \n",
              "mean      6.062896   10149.16626     1.042418      1977.805885      56.969771   \n",
              "std       1.423305    8408.22880     0.211048        26.017467      42.241709   \n",
              "min       1.000000    1300.00000     0.000000      1895.000000      20.000000   \n",
              "25%       5.000000    7447.50000     1.000000      1960.000000      20.000000   \n",
              "50%       6.000000    9375.00000     1.000000      1979.000000      50.000000   \n",
              "75%       7.000000   11402.00000     1.000000      2002.000000      70.000000   \n",
              "max      10.000000  215245.00000     3.000000      2207.000000     190.000000   \n",
              "\n",
              "       2ndFloorArea  1stFloorArea    SalePrice  \n",
              "count   2051.000000   2051.000000  2051.000000  \n",
              "mean     572.461726   2202.971234    12.213050  \n",
              "std      429.773669    390.303146     0.369913  \n",
              "min        0.000000   1416.000000    10.386346  \n",
              "25%      252.000000   1918.000000    11.986772  \n",
              "50%      252.000000   2132.000000    12.175010  \n",
              "75%      941.500000   2418.500000    12.440057  \n",
              "max     2124.000000   6139.000000    13.651836  \n",
              "\n",
              "[8 rows x 37 columns]"
            ]
          },
          "execution_count": 10,
          "metadata": {},
          "output_type": "execute_result"
        }
      ],
      "source": [
        "nums=train.dtypes[train.dtypes !='object'].index\n",
        "train[nums].describe()"
      ]
    },
    {
      "cell_type": "code",
      "execution_count": null,
      "metadata": {
        "id": "jImnjPJhhEk0"
      },
      "outputs": [],
      "source": [
        "train.drop(train[(train['LivingArea']>4000) & (train['SalePrice']<200000)].index,inplace=True)"
      ]
    },
    {
      "cell_type": "code",
      "execution_count": null,
      "metadata": {
        "id": "QjFTaCyLhEk0"
      },
      "outputs": [],
      "source": [
        "all_features=pd.concat((train,test))\n",
        "all_features.drop(['SalePrice'],axis=1, inplace=True)"
      ]
    },
    {
      "cell_type": "markdown",
      "metadata": {
        "id": "08S6iIXihEk0"
      },
      "source": [
        "#### Fill Nans\n",
        "\n",
        "1. text: fill 'No' or 'None' or mode()\n",
        "\n",
        "2. numeric: fill 0 or mean()"
      ]
    },
    {
      "cell_type": "code",
      "execution_count": null,
      "metadata": {
        "colab": {
          "base_uri": "https://localhost:8080/"
        },
        "id": "SLVSJtCKhEk1",
        "outputId": "b8601c19-9b4a-42ca-ea68-de82fe8a819c"
      },
      "outputs": [
        {
          "name": "stdout",
          "output_type": "stream",
          "text": [
            "['BsmtExposure']\n",
            "PoolQuality          2914\n",
            "Misc Feature         2821\n",
            "TypeOfAlleyAccess    2728\n",
            "FenceQuality         2354\n",
            "FireplaceQuality     1422\n",
            "GarageQuality         159\n",
            "GarageCondition       159\n",
            "GarageFinish          159\n",
            "GarageType            157\n",
            "BsmtFinishType2        81\n",
            "BsmtFinishType1        80\n",
            "BsmtHeight             80\n",
            "BsmtCondition          80\n",
            "MasVnrType             23\n",
            "Electrical              1\n",
            "dtype: int64\n"
          ]
        }
      ],
      "source": [
        "# np.sum(all_features.isna())\n",
        "text = all_features.dtypes[all_features.dtypes =='object'].index\n",
        "\n",
        "t = []\n",
        "for i in features[text].columns:\n",
        "    t.append(features[text][i].describe()['top'])\n",
        "    \n",
        "top_text = pd.DataFrame([features[text].columns,t]).transpose()\n",
        "\n",
        "no_text = []\n",
        "\n",
        "for i in range(len(top_text)):\n",
        "    if top_text.iloc[i,1] == 'No':\n",
        "        no_text.append(top_text.iloc[i,0])\n",
        "\n",
        "print(no_text)\n",
        "\n",
        "all_features[no_text] = all_features[no_text].fillna('No')\n",
        "\n",
        "missing = np.sum(all_features[text].isna()).sort_values(ascending = False)\n",
        "nas = missing[missing >0]\n",
        "nas.index\n",
        "print(nas)\n",
        "\n",
        "\n",
        "all_features['Electrical'] = all_features['Electrical'].fillna(all_features['Electrical'].mode()[0])\n",
        "nas.drop(['Electrical'])\n",
        "\n",
        "for i in nas.index:\n",
        "    all_features[i] = all_features[i].fillna('None')\n",
        "\n",
        "# np.sum(all_features[txt_features].isna()).sort_values(ascending = False)\n",
        "# all_features[txt_features].shape"
      ]
    },
    {
      "cell_type": "code",
      "execution_count": null,
      "metadata": {
        "id": "usDmZZOOhEk1"
      },
      "outputs": [],
      "source": [
        "num_features=all_features.dtypes[all_features.dtypes !='object'].index\n",
        "missing_num = all_features[num_features].isna().sum().sort_values(ascending = False)\n",
        "num_nas = missing_num[missing_num>0]\n",
        "all_features[num_nas.index]\n",
        "\n",
        "all_features['LotFrontage'] = all_features.groupby('Neighborhood')['LotFrontage'].transform(lambda x: x.fillna(x.median()))\n",
        "\n",
        "num_nas.drop(['LotFrontage'])\n",
        "all_features[num_features]=all_features[num_features].fillna(0)\n",
        "# np.sum(all_features[num_features].isna())"
      ]
    },
    {
      "cell_type": "markdown",
      "metadata": {
        "id": "WLwT2T_ghEk1"
      },
      "source": [
        "#### Transform: label encoder\n",
        "\n",
        "1. transfer float features related to 'year' to string\n",
        "\n",
        "2. transfer some text features to labels "
      ]
    },
    {
      "cell_type": "code",
      "execution_count": null,
      "metadata": {
        "id": "4TvxelaehEk2"
      },
      "outputs": [],
      "source": [
        "all_features[['YearBuilt','YearRemodelled','GarageYearBuilt','YearSold']] = all_features[['YearBuilt','YearRemodelled','GarageYearBuilt','YearSold']].astype(str)"
      ]
    },
    {
      "cell_type": "code",
      "execution_count": null,
      "metadata": {
        "colab": {
          "base_uri": "https://localhost:8080/",
          "height": 1000
        },
        "id": "L-YA3KMahEk2",
        "outputId": "cfd0bdeb-bb0b-4b86-e5e4-c437325a6736",
        "scrolled": true
      },
      "outputs": [
        {
          "data": {
            "text/html": [
              "\n",
              "  <div id=\"df-89fad290-5c12-4120-9657-80f07ca6aa1e\">\n",
              "    <div class=\"colab-df-container\">\n",
              "      <div>\n",
              "<style scoped>\n",
              "    .dataframe tbody tr th:only-of-type {\n",
              "        vertical-align: middle;\n",
              "    }\n",
              "\n",
              "    .dataframe tbody tr th {\n",
              "        vertical-align: top;\n",
              "    }\n",
              "\n",
              "    .dataframe thead th {\n",
              "        text-align: right;\n",
              "    }\n",
              "</style>\n",
              "<table border=\"1\" class=\"dataframe\">\n",
              "  <thead>\n",
              "    <tr style=\"text-align: right;\">\n",
              "      <th></th>\n",
              "      <th>0</th>\n",
              "      <th>1</th>\n",
              "      <th>2</th>\n",
              "      <th>3</th>\n",
              "      <th>4</th>\n",
              "      <th>5</th>\n",
              "      <th>6</th>\n",
              "      <th>7</th>\n",
              "      <th>8</th>\n",
              "      <th>9</th>\n",
              "      <th>...</th>\n",
              "      <th>17</th>\n",
              "      <th>18</th>\n",
              "      <th>19</th>\n",
              "      <th>20</th>\n",
              "      <th>21</th>\n",
              "      <th>22</th>\n",
              "      <th>23</th>\n",
              "      <th>24</th>\n",
              "      <th>25</th>\n",
              "      <th>26</th>\n",
              "    </tr>\n",
              "  </thead>\n",
              "  <tbody>\n",
              "    <tr>\n",
              "      <th>Paved Drive</th>\n",
              "      <td>(N, 161)</td>\n",
              "      <td>(Y, 1843)</td>\n",
              "      <td>(P, 47)</td>\n",
              "      <td>None</td>\n",
              "      <td>None</td>\n",
              "      <td>None</td>\n",
              "      <td>None</td>\n",
              "      <td>None</td>\n",
              "      <td>None</td>\n",
              "      <td>None</td>\n",
              "      <td>...</td>\n",
              "      <td>None</td>\n",
              "      <td>None</td>\n",
              "      <td>None</td>\n",
              "      <td>None</td>\n",
              "      <td>None</td>\n",
              "      <td>None</td>\n",
              "      <td>None</td>\n",
              "      <td>None</td>\n",
              "      <td>None</td>\n",
              "      <td>None</td>\n",
              "    </tr>\n",
              "    <tr>\n",
              "      <th>BsmtExposure</th>\n",
              "      <td>(nan, 55)</td>\n",
              "      <td>(No, 1345)</td>\n",
              "      <td>(Gd, 189)</td>\n",
              "      <td>(Mn, 167)</td>\n",
              "      <td>(Av, 295)</td>\n",
              "      <td>None</td>\n",
              "      <td>None</td>\n",
              "      <td>None</td>\n",
              "      <td>None</td>\n",
              "      <td>None</td>\n",
              "      <td>...</td>\n",
              "      <td>None</td>\n",
              "      <td>None</td>\n",
              "      <td>None</td>\n",
              "      <td>None</td>\n",
              "      <td>None</td>\n",
              "      <td>None</td>\n",
              "      <td>None</td>\n",
              "      <td>None</td>\n",
              "      <td>None</td>\n",
              "      <td>None</td>\n",
              "    </tr>\n",
              "    <tr>\n",
              "      <th>ProximityToMainRoad2</th>\n",
              "      <td>(Norm, 2035)</td>\n",
              "      <td>(Feedr, 9)</td>\n",
              "      <td>(PosN, 2)</td>\n",
              "      <td>(Artery, 1)</td>\n",
              "      <td>(RRNn, 2)</td>\n",
              "      <td>(PosA, 1)</td>\n",
              "      <td>(RRAn, 1)</td>\n",
              "      <td>None</td>\n",
              "      <td>None</td>\n",
              "      <td>None</td>\n",
              "      <td>...</td>\n",
              "      <td>None</td>\n",
              "      <td>None</td>\n",
              "      <td>None</td>\n",
              "      <td>None</td>\n",
              "      <td>None</td>\n",
              "      <td>None</td>\n",
              "      <td>None</td>\n",
              "      <td>None</td>\n",
              "      <td>None</td>\n",
              "      <td>None</td>\n",
              "    </tr>\n",
              "    <tr>\n",
              "      <th>KitchenQuality</th>\n",
              "      <td>(TA, 1062)</td>\n",
              "      <td>(Gd, 791)</td>\n",
              "      <td>(Fa, 53)</td>\n",
              "      <td>(Ex, 145)</td>\n",
              "      <td>None</td>\n",
              "      <td>None</td>\n",
              "      <td>None</td>\n",
              "      <td>None</td>\n",
              "      <td>None</td>\n",
              "      <td>None</td>\n",
              "      <td>...</td>\n",
              "      <td>None</td>\n",
              "      <td>None</td>\n",
              "      <td>None</td>\n",
              "      <td>None</td>\n",
              "      <td>None</td>\n",
              "      <td>None</td>\n",
              "      <td>None</td>\n",
              "      <td>None</td>\n",
              "      <td>None</td>\n",
              "      <td>None</td>\n",
              "    </tr>\n",
              "    <tr>\n",
              "      <th>SaleCondition</th>\n",
              "      <td>(Normal, 1681)</td>\n",
              "      <td>(Partial, 175)</td>\n",
              "      <td>(Abnorml, 131)</td>\n",
              "      <td>(Alloca, 18)</td>\n",
              "      <td>(Family, 37)</td>\n",
              "      <td>(AdjLand, 9)</td>\n",
              "      <td>None</td>\n",
              "      <td>None</td>\n",
              "      <td>None</td>\n",
              "      <td>None</td>\n",
              "      <td>...</td>\n",
              "      <td>None</td>\n",
              "      <td>None</td>\n",
              "      <td>None</td>\n",
              "      <td>None</td>\n",
              "      <td>None</td>\n",
              "      <td>None</td>\n",
              "      <td>None</td>\n",
              "      <td>None</td>\n",
              "      <td>None</td>\n",
              "      <td>None</td>\n",
              "    </tr>\n",
              "    <tr>\n",
              "      <th>Lot Config</th>\n",
              "      <td>(CulDSac, 130)</td>\n",
              "      <td>(Inside, 1496)</td>\n",
              "      <td>(Corner, 356)</td>\n",
              "      <td>(FR2, 59)</td>\n",
              "      <td>(FR3, 10)</td>\n",
              "      <td>None</td>\n",
              "      <td>None</td>\n",
              "      <td>None</td>\n",
              "      <td>None</td>\n",
              "      <td>None</td>\n",
              "      <td>...</td>\n",
              "      <td>None</td>\n",
              "      <td>None</td>\n",
              "      <td>None</td>\n",
              "      <td>None</td>\n",
              "      <td>None</td>\n",
              "      <td>None</td>\n",
              "      <td>None</td>\n",
              "      <td>None</td>\n",
              "      <td>None</td>\n",
              "      <td>None</td>\n",
              "    </tr>\n",
              "    <tr>\n",
              "      <th>FenceQuality</th>\n",
              "      <td>(nan, 1649)</td>\n",
              "      <td>(GdPrv, 88)</td>\n",
              "      <td>(MnPrv, 223)</td>\n",
              "      <td>(MnWw, 10)</td>\n",
              "      <td>(GdWo, 81)</td>\n",
              "      <td>None</td>\n",
              "      <td>None</td>\n",
              "      <td>None</td>\n",
              "      <td>None</td>\n",
              "      <td>None</td>\n",
              "      <td>...</td>\n",
              "      <td>None</td>\n",
              "      <td>None</td>\n",
              "      <td>None</td>\n",
              "      <td>None</td>\n",
              "      <td>None</td>\n",
              "      <td>None</td>\n",
              "      <td>None</td>\n",
              "      <td>None</td>\n",
              "      <td>None</td>\n",
              "      <td>None</td>\n",
              "    </tr>\n",
              "    <tr>\n",
              "      <th>SaleType</th>\n",
              "      <td>(WD, 1772)</td>\n",
              "      <td>(New, 170)</td>\n",
              "      <td>(CWD, 9)</td>\n",
              "      <td>(COD, 61)</td>\n",
              "      <td>(ConLD, 20)</td>\n",
              "      <td>(ConLw, 5)</td>\n",
              "      <td>(Oth, 5)</td>\n",
              "      <td>(ConLI, 6)</td>\n",
              "      <td>(Con, 3)</td>\n",
              "      <td>None</td>\n",
              "      <td>...</td>\n",
              "      <td>None</td>\n",
              "      <td>None</td>\n",
              "      <td>None</td>\n",
              "      <td>None</td>\n",
              "      <td>None</td>\n",
              "      <td>None</td>\n",
              "      <td>None</td>\n",
              "      <td>None</td>\n",
              "      <td>None</td>\n",
              "      <td>None</td>\n",
              "    </tr>\n",
              "    <tr>\n",
              "      <th>Neighborhood</th>\n",
              "      <td>(Edwards, 130)</td>\n",
              "      <td>(NAmes, 328)</td>\n",
              "      <td>(Sawyer, 101)</td>\n",
              "      <td>(CollgCr, 184)</td>\n",
              "      <td>(NridgHt, 117)</td>\n",
              "      <td>(SawyerW, 83)</td>\n",
              "      <td>(Blueste, 8)</td>\n",
              "      <td>(IDOTRR, 70)</td>\n",
              "      <td>(SWISU, 32)</td>\n",
              "      <td>(Greens, 5)</td>\n",
              "      <td>...</td>\n",
              "      <td>(ClearCr, 33)</td>\n",
              "      <td>(Gilbert, 112)</td>\n",
              "      <td>(NWAmes, 94)</td>\n",
              "      <td>(NPkVill, 17)</td>\n",
              "      <td>(Veenker, 16)</td>\n",
              "      <td>(Somerst, 126)</td>\n",
              "      <td>(Blmngtn, 17)</td>\n",
              "      <td>(MeadowV, 23)</td>\n",
              "      <td>(BrDale, 17)</td>\n",
              "      <td>(GrnHill, 2)</td>\n",
              "    </tr>\n",
              "    <tr>\n",
              "      <th>HeatingQuality</th>\n",
              "      <td>(Ex, 1042)</td>\n",
              "      <td>(Gd, 343)</td>\n",
              "      <td>(TA, 598)</td>\n",
              "      <td>(Fa, 66)</td>\n",
              "      <td>(Po, 2)</td>\n",
              "      <td>None</td>\n",
              "      <td>None</td>\n",
              "      <td>None</td>\n",
              "      <td>None</td>\n",
              "      <td>None</td>\n",
              "      <td>...</td>\n",
              "      <td>None</td>\n",
              "      <td>None</td>\n",
              "      <td>None</td>\n",
              "      <td>None</td>\n",
              "      <td>None</td>\n",
              "      <td>None</td>\n",
              "      <td>None</td>\n",
              "      <td>None</td>\n",
              "      <td>None</td>\n",
              "      <td>None</td>\n",
              "    </tr>\n",
              "    <tr>\n",
              "      <th>RoofMaterial</th>\n",
              "      <td>(CompShg, 2019)</td>\n",
              "      <td>(Tar&amp;Grv, 17)</td>\n",
              "      <td>(WdShake, 7)</td>\n",
              "      <td>(Membran, 1)</td>\n",
              "      <td>(WdShngl, 5)</td>\n",
              "      <td>(ClyTile, 1)</td>\n",
              "      <td>(Metal, 1)</td>\n",
              "      <td>None</td>\n",
              "      <td>None</td>\n",
              "      <td>None</td>\n",
              "      <td>...</td>\n",
              "      <td>None</td>\n",
              "      <td>None</td>\n",
              "      <td>None</td>\n",
              "      <td>None</td>\n",
              "      <td>None</td>\n",
              "      <td>None</td>\n",
              "      <td>None</td>\n",
              "      <td>None</td>\n",
              "      <td>None</td>\n",
              "      <td>None</td>\n",
              "    </tr>\n",
              "    <tr>\n",
              "      <th>Exterior1</th>\n",
              "      <td>(Wd Sdng, 305)</td>\n",
              "      <td>(Plywood, 156)</td>\n",
              "      <td>(VinylSd, 716)</td>\n",
              "      <td>(CemntBd, 88)</td>\n",
              "      <td>(MetalSd, 311)</td>\n",
              "      <td>(AsbShng, 29)</td>\n",
              "      <td>(HdBoard, 307)</td>\n",
              "      <td>(Stucco, 28)</td>\n",
              "      <td>(WdShing, 39)</td>\n",
              "      <td>(BrkFace, 60)</td>\n",
              "      <td>...</td>\n",
              "      <td>None</td>\n",
              "      <td>None</td>\n",
              "      <td>None</td>\n",
              "      <td>None</td>\n",
              "      <td>None</td>\n",
              "      <td>None</td>\n",
              "      <td>None</td>\n",
              "      <td>None</td>\n",
              "      <td>None</td>\n",
              "      <td>None</td>\n",
              "    </tr>\n",
              "    <tr>\n",
              "      <th>Foundation</th>\n",
              "      <td>(Slab, 32)</td>\n",
              "      <td>(CBlock, 864)</td>\n",
              "      <td>(PConc, 913)</td>\n",
              "      <td>(BrkTil, 232)</td>\n",
              "      <td>(Wood, 3)</td>\n",
              "      <td>(Stone, 7)</td>\n",
              "      <td>None</td>\n",
              "      <td>None</td>\n",
              "      <td>None</td>\n",
              "      <td>None</td>\n",
              "      <td>...</td>\n",
              "      <td>None</td>\n",
              "      <td>None</td>\n",
              "      <td>None</td>\n",
              "      <td>None</td>\n",
              "      <td>None</td>\n",
              "      <td>None</td>\n",
              "      <td>None</td>\n",
              "      <td>None</td>\n",
              "      <td>None</td>\n",
              "      <td>None</td>\n",
              "    </tr>\n",
              "    <tr>\n",
              "      <th>HouseType</th>\n",
              "      <td>(1Fam, 1704)</td>\n",
              "      <td>(Duplex, 73)</td>\n",
              "      <td>(TwnhsE, 170)</td>\n",
              "      <td>(Twnhs, 63)</td>\n",
              "      <td>(2fmCon, 41)</td>\n",
              "      <td>None</td>\n",
              "      <td>None</td>\n",
              "      <td>None</td>\n",
              "      <td>None</td>\n",
              "      <td>None</td>\n",
              "      <td>...</td>\n",
              "      <td>None</td>\n",
              "      <td>None</td>\n",
              "      <td>None</td>\n",
              "      <td>None</td>\n",
              "      <td>None</td>\n",
              "      <td>None</td>\n",
              "      <td>None</td>\n",
              "      <td>None</td>\n",
              "      <td>None</td>\n",
              "      <td>None</td>\n",
              "    </tr>\n",
              "    <tr>\n",
              "      <th>Misc Feature</th>\n",
              "      <td>(nan, 1980)</td>\n",
              "      <td>(Shed, 63)</td>\n",
              "      <td>(Othr, 4)</td>\n",
              "      <td>(Gar2, 3)</td>\n",
              "      <td>(Elev, 1)</td>\n",
              "      <td>None</td>\n",
              "      <td>None</td>\n",
              "      <td>None</td>\n",
              "      <td>None</td>\n",
              "      <td>None</td>\n",
              "      <td>...</td>\n",
              "      <td>None</td>\n",
              "      <td>None</td>\n",
              "      <td>None</td>\n",
              "      <td>None</td>\n",
              "      <td>None</td>\n",
              "      <td>None</td>\n",
              "      <td>None</td>\n",
              "      <td>None</td>\n",
              "      <td>None</td>\n",
              "      <td>None</td>\n",
              "    </tr>\n",
              "    <tr>\n",
              "      <th>GarageFinish</th>\n",
              "      <td>(Unf, 878)</td>\n",
              "      <td>(Fin, 498)</td>\n",
              "      <td>(RFn, 561)</td>\n",
              "      <td>(nan, 114)</td>\n",
              "      <td>None</td>\n",
              "      <td>None</td>\n",
              "      <td>None</td>\n",
              "      <td>None</td>\n",
              "      <td>None</td>\n",
              "      <td>None</td>\n",
              "      <td>...</td>\n",
              "      <td>None</td>\n",
              "      <td>None</td>\n",
              "      <td>None</td>\n",
              "      <td>None</td>\n",
              "      <td>None</td>\n",
              "      <td>None</td>\n",
              "      <td>None</td>\n",
              "      <td>None</td>\n",
              "      <td>None</td>\n",
              "      <td>None</td>\n",
              "    </tr>\n",
              "    <tr>\n",
              "      <th>ExteriorQual</th>\n",
              "      <td>(TA, 1258)</td>\n",
              "      <td>(Gd, 692)</td>\n",
              "      <td>(Fa, 28)</td>\n",
              "      <td>(Ex, 73)</td>\n",
              "      <td>None</td>\n",
              "      <td>None</td>\n",
              "      <td>None</td>\n",
              "      <td>None</td>\n",
              "      <td>None</td>\n",
              "      <td>None</td>\n",
              "      <td>...</td>\n",
              "      <td>None</td>\n",
              "      <td>None</td>\n",
              "      <td>None</td>\n",
              "      <td>None</td>\n",
              "      <td>None</td>\n",
              "      <td>None</td>\n",
              "      <td>None</td>\n",
              "      <td>None</td>\n",
              "      <td>None</td>\n",
              "      <td>None</td>\n",
              "    </tr>\n",
              "    <tr>\n",
              "      <th>UtilitiesAvailable</th>\n",
              "      <td>(AllPub, 2049)</td>\n",
              "      <td>(NoSewr, 1)</td>\n",
              "      <td>(NoSeWa, 1)</td>\n",
              "      <td>None</td>\n",
              "      <td>None</td>\n",
              "      <td>None</td>\n",
              "      <td>None</td>\n",
              "      <td>None</td>\n",
              "      <td>None</td>\n",
              "      <td>None</td>\n",
              "      <td>...</td>\n",
              "      <td>None</td>\n",
              "      <td>None</td>\n",
              "      <td>None</td>\n",
              "      <td>None</td>\n",
              "      <td>None</td>\n",
              "      <td>None</td>\n",
              "      <td>None</td>\n",
              "      <td>None</td>\n",
              "      <td>None</td>\n",
              "      <td>None</td>\n",
              "    </tr>\n",
              "    <tr>\n",
              "      <th>HouseStyle</th>\n",
              "      <td>(1Story, 1048)</td>\n",
              "      <td>(1.5Fin, 221)</td>\n",
              "      <td>(2Story, 596)</td>\n",
              "      <td>(2.5Fin, 8)</td>\n",
              "      <td>(2.5Unf, 17)</td>\n",
              "      <td>(SLvl, 88)</td>\n",
              "      <td>(SFoyer, 59)</td>\n",
              "      <td>(1.5Unf, 14)</td>\n",
              "      <td>None</td>\n",
              "      <td>None</td>\n",
              "      <td>...</td>\n",
              "      <td>None</td>\n",
              "      <td>None</td>\n",
              "      <td>None</td>\n",
              "      <td>None</td>\n",
              "      <td>None</td>\n",
              "      <td>None</td>\n",
              "      <td>None</td>\n",
              "      <td>None</td>\n",
              "      <td>None</td>\n",
              "      <td>None</td>\n",
              "    </tr>\n",
              "    <tr>\n",
              "      <th>MasVnrType</th>\n",
              "      <td>(None, 1246)</td>\n",
              "      <td>(BrkFace, 600)</td>\n",
              "      <td>(Stone, 172)</td>\n",
              "      <td>(nan, 15)</td>\n",
              "      <td>(BrkCmn, 17)</td>\n",
              "      <td>(CBlock, 1)</td>\n",
              "      <td>None</td>\n",
              "      <td>None</td>\n",
              "      <td>None</td>\n",
              "      <td>None</td>\n",
              "      <td>...</td>\n",
              "      <td>None</td>\n",
              "      <td>None</td>\n",
              "      <td>None</td>\n",
              "      <td>None</td>\n",
              "      <td>None</td>\n",
              "      <td>None</td>\n",
              "      <td>None</td>\n",
              "      <td>None</td>\n",
              "      <td>None</td>\n",
              "      <td>None</td>\n",
              "    </tr>\n",
              "    <tr>\n",
              "      <th>FireplaceQuality</th>\n",
              "      <td>(nan, 1001)</td>\n",
              "      <td>(Gd, 532)</td>\n",
              "      <td>(TA, 409)</td>\n",
              "      <td>(Fa, 52)</td>\n",
              "      <td>(Ex, 28)</td>\n",
              "      <td>(Po, 29)</td>\n",
              "      <td>None</td>\n",
              "      <td>None</td>\n",
              "      <td>None</td>\n",
              "      <td>None</td>\n",
              "      <td>...</td>\n",
              "      <td>None</td>\n",
              "      <td>None</td>\n",
              "      <td>None</td>\n",
              "      <td>None</td>\n",
              "      <td>None</td>\n",
              "      <td>None</td>\n",
              "      <td>None</td>\n",
              "      <td>None</td>\n",
              "      <td>None</td>\n",
              "      <td>None</td>\n",
              "    </tr>\n",
              "    <tr>\n",
              "      <th>BsmtCondition</th>\n",
              "      <td>(nan, 54)</td>\n",
              "      <td>(TA, 1836)</td>\n",
              "      <td>(Fa, 79)</td>\n",
              "      <td>(Po, 2)</td>\n",
              "      <td>(Gd, 77)</td>\n",
              "      <td>(Ex, 3)</td>\n",
              "      <td>None</td>\n",
              "      <td>None</td>\n",
              "      <td>None</td>\n",
              "      <td>None</td>\n",
              "      <td>...</td>\n",
              "      <td>None</td>\n",
              "      <td>None</td>\n",
              "      <td>None</td>\n",
              "      <td>None</td>\n",
              "      <td>None</td>\n",
              "      <td>None</td>\n",
              "      <td>None</td>\n",
              "      <td>None</td>\n",
              "      <td>None</td>\n",
              "      <td>None</td>\n",
              "    </tr>\n",
              "    <tr>\n",
              "      <th>BsmtHeight</th>\n",
              "      <td>(nan, 54)</td>\n",
              "      <td>(TA, 916)</td>\n",
              "      <td>(Gd, 833)</td>\n",
              "      <td>(Ex, 180)</td>\n",
              "      <td>(Fa, 66)</td>\n",
              "      <td>(Po, 2)</td>\n",
              "      <td>None</td>\n",
              "      <td>None</td>\n",
              "      <td>None</td>\n",
              "      <td>None</td>\n",
              "      <td>...</td>\n",
              "      <td>None</td>\n",
              "      <td>None</td>\n",
              "      <td>None</td>\n",
              "      <td>None</td>\n",
              "      <td>None</td>\n",
              "      <td>None</td>\n",
              "      <td>None</td>\n",
              "      <td>None</td>\n",
              "      <td>None</td>\n",
              "      <td>None</td>\n",
              "    </tr>\n",
              "    <tr>\n",
              "      <th>BsmtFinishType2</th>\n",
              "      <td>(nan, 54)</td>\n",
              "      <td>(Unf, 1759)</td>\n",
              "      <td>(BLQ, 41)</td>\n",
              "      <td>(LwQ, 62)</td>\n",
              "      <td>(ALQ, 31)</td>\n",
              "      <td>(Rec, 79)</td>\n",
              "      <td>(GLQ, 25)</td>\n",
              "      <td>None</td>\n",
              "      <td>None</td>\n",
              "      <td>None</td>\n",
              "      <td>...</td>\n",
              "      <td>None</td>\n",
              "      <td>None</td>\n",
              "      <td>None</td>\n",
              "      <td>None</td>\n",
              "      <td>None</td>\n",
              "      <td>None</td>\n",
              "      <td>None</td>\n",
              "      <td>None</td>\n",
              "      <td>None</td>\n",
              "      <td>None</td>\n",
              "    </tr>\n",
              "    <tr>\n",
              "      <th>PoolQuality</th>\n",
              "      <td>(nan, 2044)</td>\n",
              "      <td>(Ex, 2)</td>\n",
              "      <td>(Fa, 1)</td>\n",
              "      <td>(TA, 2)</td>\n",
              "      <td>(Gd, 2)</td>\n",
              "      <td>None</td>\n",
              "      <td>None</td>\n",
              "      <td>None</td>\n",
              "      <td>None</td>\n",
              "      <td>None</td>\n",
              "      <td>...</td>\n",
              "      <td>None</td>\n",
              "      <td>None</td>\n",
              "      <td>None</td>\n",
              "      <td>None</td>\n",
              "      <td>None</td>\n",
              "      <td>None</td>\n",
              "      <td>None</td>\n",
              "      <td>None</td>\n",
              "      <td>None</td>\n",
              "      <td>None</td>\n",
              "    </tr>\n",
              "    <tr>\n",
              "      <th>RoofType</th>\n",
              "      <td>(Gable, 1619)</td>\n",
              "      <td>(Gambrel, 18)</td>\n",
              "      <td>(Hip, 389)</td>\n",
              "      <td>(Flat, 15)</td>\n",
              "      <td>(Mansard, 6)</td>\n",
              "      <td>(Shed, 4)</td>\n",
              "      <td>None</td>\n",
              "      <td>None</td>\n",
              "      <td>None</td>\n",
              "      <td>None</td>\n",
              "      <td>...</td>\n",
              "      <td>None</td>\n",
              "      <td>None</td>\n",
              "      <td>None</td>\n",
              "      <td>None</td>\n",
              "      <td>None</td>\n",
              "      <td>None</td>\n",
              "      <td>None</td>\n",
              "      <td>None</td>\n",
              "      <td>None</td>\n",
              "      <td>None</td>\n",
              "    </tr>\n",
              "    <tr>\n",
              "      <th>Functional</th>\n",
              "      <td>(Typ, 1900)</td>\n",
              "      <td>(Min1, 51)</td>\n",
              "      <td>(Maj2, 7)</td>\n",
              "      <td>(Mod, 24)</td>\n",
              "      <td>(Min2, 51)</td>\n",
              "      <td>(Maj1, 15)</td>\n",
              "      <td>(Sev, 2)</td>\n",
              "      <td>(Sal, 1)</td>\n",
              "      <td>None</td>\n",
              "      <td>None</td>\n",
              "      <td>...</td>\n",
              "      <td>None</td>\n",
              "      <td>None</td>\n",
              "      <td>None</td>\n",
              "      <td>None</td>\n",
              "      <td>None</td>\n",
              "      <td>None</td>\n",
              "      <td>None</td>\n",
              "      <td>None</td>\n",
              "      <td>None</td>\n",
              "      <td>None</td>\n",
              "    </tr>\n",
              "    <tr>\n",
              "      <th>ExteriorCond</th>\n",
              "      <td>(Gd, 201)</td>\n",
              "      <td>(TA, 1792)</td>\n",
              "      <td>(Ex, 7)</td>\n",
              "      <td>(Fa, 49)</td>\n",
              "      <td>(Po, 2)</td>\n",
              "      <td>None</td>\n",
              "      <td>None</td>\n",
              "      <td>None</td>\n",
              "      <td>None</td>\n",
              "      <td>None</td>\n",
              "      <td>...</td>\n",
              "      <td>None</td>\n",
              "      <td>None</td>\n",
              "      <td>None</td>\n",
              "      <td>None</td>\n",
              "      <td>None</td>\n",
              "      <td>None</td>\n",
              "      <td>None</td>\n",
              "      <td>None</td>\n",
              "      <td>None</td>\n",
              "      <td>None</td>\n",
              "    </tr>\n",
              "    <tr>\n",
              "      <th>GarageCondition</th>\n",
              "      <td>(TA, 1857)</td>\n",
              "      <td>(nan, 114)</td>\n",
              "      <td>(Po, 11)</td>\n",
              "      <td>(Fa, 57)</td>\n",
              "      <td>(Gd, 10)</td>\n",
              "      <td>(Ex, 2)</td>\n",
              "      <td>None</td>\n",
              "      <td>None</td>\n",
              "      <td>None</td>\n",
              "      <td>None</td>\n",
              "      <td>...</td>\n",
              "      <td>None</td>\n",
              "      <td>None</td>\n",
              "      <td>None</td>\n",
              "      <td>None</td>\n",
              "      <td>None</td>\n",
              "      <td>None</td>\n",
              "      <td>None</td>\n",
              "      <td>None</td>\n",
              "      <td>None</td>\n",
              "      <td>None</td>\n",
              "    </tr>\n",
              "    <tr>\n",
              "      <th>Electrical</th>\n",
              "      <td>(SBrkr, 1873)</td>\n",
              "      <td>(FuseA, 135)</td>\n",
              "      <td>(Mix, 1)</td>\n",
              "      <td>(FuseF, 36)</td>\n",
              "      <td>(FuseP, 5)</td>\n",
              "      <td>(nan, 1)</td>\n",
              "      <td>None</td>\n",
              "      <td>None</td>\n",
              "      <td>None</td>\n",
              "      <td>None</td>\n",
              "      <td>...</td>\n",
              "      <td>None</td>\n",
              "      <td>None</td>\n",
              "      <td>None</td>\n",
              "      <td>None</td>\n",
              "      <td>None</td>\n",
              "      <td>None</td>\n",
              "      <td>None</td>\n",
              "      <td>None</td>\n",
              "      <td>None</td>\n",
              "      <td>None</td>\n",
              "    </tr>\n",
              "    <tr>\n",
              "      <th>ProximityToMainRoad</th>\n",
              "      <td>(Norm, 1766)</td>\n",
              "      <td>(Feedr, 116)</td>\n",
              "      <td>(Artery, 69)</td>\n",
              "      <td>(RRAe, 18)</td>\n",
              "      <td>(PosN, 26)</td>\n",
              "      <td>(PosA, 14)</td>\n",
              "      <td>(RRAn, 31)</td>\n",
              "      <td>(RRNn, 7)</td>\n",
              "      <td>(RRNe, 4)</td>\n",
              "      <td>None</td>\n",
              "      <td>...</td>\n",
              "      <td>None</td>\n",
              "      <td>None</td>\n",
              "      <td>None</td>\n",
              "      <td>None</td>\n",
              "      <td>None</td>\n",
              "      <td>None</td>\n",
              "      <td>None</td>\n",
              "      <td>None</td>\n",
              "      <td>None</td>\n",
              "      <td>None</td>\n",
              "    </tr>\n",
              "    <tr>\n",
              "      <th>GarageQuality</th>\n",
              "      <td>(TA, 1826)</td>\n",
              "      <td>(nan, 114)</td>\n",
              "      <td>(Po, 4)</td>\n",
              "      <td>(Fa, 90)</td>\n",
              "      <td>(Gd, 15)</td>\n",
              "      <td>(Ex, 2)</td>\n",
              "      <td>None</td>\n",
              "      <td>None</td>\n",
              "      <td>None</td>\n",
              "      <td>None</td>\n",
              "      <td>...</td>\n",
              "      <td>None</td>\n",
              "      <td>None</td>\n",
              "      <td>None</td>\n",
              "      <td>None</td>\n",
              "      <td>None</td>\n",
              "      <td>None</td>\n",
              "      <td>None</td>\n",
              "      <td>None</td>\n",
              "      <td>None</td>\n",
              "      <td>None</td>\n",
              "    </tr>\n",
              "    <tr>\n",
              "      <th>ZoningClass</th>\n",
              "      <td>(RL, 1589)</td>\n",
              "      <td>(RM, 330)</td>\n",
              "      <td>(C (all), 19)</td>\n",
              "      <td>(FV, 95)</td>\n",
              "      <td>(RH, 14)</td>\n",
              "      <td>(I (all), 2)</td>\n",
              "      <td>(A (agr), 2)</td>\n",
              "      <td>None</td>\n",
              "      <td>None</td>\n",
              "      <td>None</td>\n",
              "      <td>...</td>\n",
              "      <td>None</td>\n",
              "      <td>None</td>\n",
              "      <td>None</td>\n",
              "      <td>None</td>\n",
              "      <td>None</td>\n",
              "      <td>None</td>\n",
              "      <td>None</td>\n",
              "      <td>None</td>\n",
              "      <td>None</td>\n",
              "      <td>None</td>\n",
              "    </tr>\n",
              "    <tr>\n",
              "      <th>TypeOfAlleyAccess</th>\n",
              "      <td>(nan, 1911)</td>\n",
              "      <td>(Grvl, 84)</td>\n",
              "      <td>(Pave, 56)</td>\n",
              "      <td>None</td>\n",
              "      <td>None</td>\n",
              "      <td>None</td>\n",
              "      <td>None</td>\n",
              "      <td>None</td>\n",
              "      <td>None</td>\n",
              "      <td>None</td>\n",
              "      <td>...</td>\n",
              "      <td>None</td>\n",
              "      <td>None</td>\n",
              "      <td>None</td>\n",
              "      <td>None</td>\n",
              "      <td>None</td>\n",
              "      <td>None</td>\n",
              "      <td>None</td>\n",
              "      <td>None</td>\n",
              "      <td>None</td>\n",
              "      <td>None</td>\n",
              "    </tr>\n",
              "    <tr>\n",
              "      <th>BsmtFinishType1</th>\n",
              "      <td>(nan, 54)</td>\n",
              "      <td>(BLQ, 192)</td>\n",
              "      <td>(Unf, 602)</td>\n",
              "      <td>(GLQ, 599)</td>\n",
              "      <td>(Rec, 186)</td>\n",
              "      <td>(ALQ, 307)</td>\n",
              "      <td>(LwQ, 111)</td>\n",
              "      <td>None</td>\n",
              "      <td>None</td>\n",
              "      <td>None</td>\n",
              "      <td>...</td>\n",
              "      <td>None</td>\n",
              "      <td>None</td>\n",
              "      <td>None</td>\n",
              "      <td>None</td>\n",
              "      <td>None</td>\n",
              "      <td>None</td>\n",
              "      <td>None</td>\n",
              "      <td>None</td>\n",
              "      <td>None</td>\n",
              "      <td>None</td>\n",
              "    </tr>\n",
              "    <tr>\n",
              "      <th>TypeOfRoadAccess</th>\n",
              "      <td>(Pave, 2042)</td>\n",
              "      <td>(Grvl, 9)</td>\n",
              "      <td>None</td>\n",
              "      <td>None</td>\n",
              "      <td>None</td>\n",
              "      <td>None</td>\n",
              "      <td>None</td>\n",
              "      <td>None</td>\n",
              "      <td>None</td>\n",
              "      <td>None</td>\n",
              "      <td>...</td>\n",
              "      <td>None</td>\n",
              "      <td>None</td>\n",
              "      <td>None</td>\n",
              "      <td>None</td>\n",
              "      <td>None</td>\n",
              "      <td>None</td>\n",
              "      <td>None</td>\n",
              "      <td>None</td>\n",
              "      <td>None</td>\n",
              "      <td>None</td>\n",
              "    </tr>\n",
              "    <tr>\n",
              "      <th>Shape</th>\n",
              "      <td>(IR1, 697)</td>\n",
              "      <td>(Reg, 1291)</td>\n",
              "      <td>(IR2, 51)</td>\n",
              "      <td>(IR3, 12)</td>\n",
              "      <td>None</td>\n",
              "      <td>None</td>\n",
              "      <td>None</td>\n",
              "      <td>None</td>\n",
              "      <td>None</td>\n",
              "      <td>None</td>\n",
              "      <td>...</td>\n",
              "      <td>None</td>\n",
              "      <td>None</td>\n",
              "      <td>None</td>\n",
              "      <td>None</td>\n",
              "      <td>None</td>\n",
              "      <td>None</td>\n",
              "      <td>None</td>\n",
              "      <td>None</td>\n",
              "      <td>None</td>\n",
              "      <td>None</td>\n",
              "    </tr>\n",
              "    <tr>\n",
              "      <th>Flatness</th>\n",
              "      <td>(Lvl, 1838)</td>\n",
              "      <td>(Bnk, 91)</td>\n",
              "      <td>(HLS, 83)</td>\n",
              "      <td>(Low, 39)</td>\n",
              "      <td>None</td>\n",
              "      <td>None</td>\n",
              "      <td>None</td>\n",
              "      <td>None</td>\n",
              "      <td>None</td>\n",
              "      <td>None</td>\n",
              "      <td>...</td>\n",
              "      <td>None</td>\n",
              "      <td>None</td>\n",
              "      <td>None</td>\n",
              "      <td>None</td>\n",
              "      <td>None</td>\n",
              "      <td>None</td>\n",
              "      <td>None</td>\n",
              "      <td>None</td>\n",
              "      <td>None</td>\n",
              "      <td>None</td>\n",
              "    </tr>\n",
              "    <tr>\n",
              "      <th>HeatingType</th>\n",
              "      <td>(GasA, 2019)</td>\n",
              "      <td>(Grav, 8)</td>\n",
              "      <td>(OthW, 2)</td>\n",
              "      <td>(GasW, 18)</td>\n",
              "      <td>(Floor, 1)</td>\n",
              "      <td>(Wall, 3)</td>\n",
              "      <td>None</td>\n",
              "      <td>None</td>\n",
              "      <td>None</td>\n",
              "      <td>None</td>\n",
              "      <td>...</td>\n",
              "      <td>None</td>\n",
              "      <td>None</td>\n",
              "      <td>None</td>\n",
              "      <td>None</td>\n",
              "      <td>None</td>\n",
              "      <td>None</td>\n",
              "      <td>None</td>\n",
              "      <td>None</td>\n",
              "      <td>None</td>\n",
              "      <td>None</td>\n",
              "    </tr>\n",
              "    <tr>\n",
              "      <th>Central Air</th>\n",
              "      <td>(N, 149)</td>\n",
              "      <td>(Y, 1902)</td>\n",
              "      <td>None</td>\n",
              "      <td>None</td>\n",
              "      <td>None</td>\n",
              "      <td>None</td>\n",
              "      <td>None</td>\n",
              "      <td>None</td>\n",
              "      <td>None</td>\n",
              "      <td>None</td>\n",
              "      <td>...</td>\n",
              "      <td>None</td>\n",
              "      <td>None</td>\n",
              "      <td>None</td>\n",
              "      <td>None</td>\n",
              "      <td>None</td>\n",
              "      <td>None</td>\n",
              "      <td>None</td>\n",
              "      <td>None</td>\n",
              "      <td>None</td>\n",
              "      <td>None</td>\n",
              "    </tr>\n",
              "    <tr>\n",
              "      <th>SlopeOfProperty</th>\n",
              "      <td>(Gtl, 1954)</td>\n",
              "      <td>(Mod, 85)</td>\n",
              "      <td>(Sev, 12)</td>\n",
              "      <td>None</td>\n",
              "      <td>None</td>\n",
              "      <td>None</td>\n",
              "      <td>None</td>\n",
              "      <td>None</td>\n",
              "      <td>None</td>\n",
              "      <td>None</td>\n",
              "      <td>...</td>\n",
              "      <td>None</td>\n",
              "      <td>None</td>\n",
              "      <td>None</td>\n",
              "      <td>None</td>\n",
              "      <td>None</td>\n",
              "      <td>None</td>\n",
              "      <td>None</td>\n",
              "      <td>None</td>\n",
              "      <td>None</td>\n",
              "      <td>None</td>\n",
              "    </tr>\n",
              "    <tr>\n",
              "      <th>Exterior2</th>\n",
              "      <td>(Wd Sdng, 287)</td>\n",
              "      <td>(Plywood, 190)</td>\n",
              "      <td>(VinylSd, 708)</td>\n",
              "      <td>(CmentBd, 87)</td>\n",
              "      <td>(MetalSd, 313)</td>\n",
              "      <td>(AsbShng, 24)</td>\n",
              "      <td>(HdBoard, 280)</td>\n",
              "      <td>(Wd Shng, 63)</td>\n",
              "      <td>(Stucco, 32)</td>\n",
              "      <td>(Brk Cmn, 19)</td>\n",
              "      <td>...</td>\n",
              "      <td>None</td>\n",
              "      <td>None</td>\n",
              "      <td>None</td>\n",
              "      <td>None</td>\n",
              "      <td>None</td>\n",
              "      <td>None</td>\n",
              "      <td>None</td>\n",
              "      <td>None</td>\n",
              "      <td>None</td>\n",
              "      <td>None</td>\n",
              "    </tr>\n",
              "    <tr>\n",
              "      <th>GarageType</th>\n",
              "      <td>(Detchd, 567)</td>\n",
              "      <td>(Attchd, 1198)</td>\n",
              "      <td>(BuiltIn, 119)</td>\n",
              "      <td>(Basment, 26)</td>\n",
              "      <td>(nan, 113)</td>\n",
              "      <td>(CarPort, 10)</td>\n",
              "      <td>(2Types, 18)</td>\n",
              "      <td>None</td>\n",
              "      <td>None</td>\n",
              "      <td>None</td>\n",
              "      <td>...</td>\n",
              "      <td>None</td>\n",
              "      <td>None</td>\n",
              "      <td>None</td>\n",
              "      <td>None</td>\n",
              "      <td>None</td>\n",
              "      <td>None</td>\n",
              "      <td>None</td>\n",
              "      <td>None</td>\n",
              "      <td>None</td>\n",
              "      <td>None</td>\n",
              "    </tr>\n",
              "  </tbody>\n",
              "</table>\n",
              "<p>43 rows × 27 columns</p>\n",
              "</div>\n",
              "      <button class=\"colab-df-convert\" onclick=\"convertToInteractive('df-89fad290-5c12-4120-9657-80f07ca6aa1e')\"\n",
              "              title=\"Convert this dataframe to an interactive table.\"\n",
              "              style=\"display:none;\">\n",
              "        \n",
              "  <svg xmlns=\"http://www.w3.org/2000/svg\" height=\"24px\"viewBox=\"0 0 24 24\"\n",
              "       width=\"24px\">\n",
              "    <path d=\"M0 0h24v24H0V0z\" fill=\"none\"/>\n",
              "    <path d=\"M18.56 5.44l.94 2.06.94-2.06 2.06-.94-2.06-.94-.94-2.06-.94 2.06-2.06.94zm-11 1L8.5 8.5l.94-2.06 2.06-.94-2.06-.94L8.5 2.5l-.94 2.06-2.06.94zm10 10l.94 2.06.94-2.06 2.06-.94-2.06-.94-.94-2.06-.94 2.06-2.06.94z\"/><path d=\"M17.41 7.96l-1.37-1.37c-.4-.4-.92-.59-1.43-.59-.52 0-1.04.2-1.43.59L10.3 9.45l-7.72 7.72c-.78.78-.78 2.05 0 2.83L4 21.41c.39.39.9.59 1.41.59.51 0 1.02-.2 1.41-.59l7.78-7.78 2.81-2.81c.8-.78.8-2.07 0-2.86zM5.41 20L4 18.59l7.72-7.72 1.47 1.35L5.41 20z\"/>\n",
              "  </svg>\n",
              "      </button>\n",
              "      \n",
              "  <style>\n",
              "    .colab-df-container {\n",
              "      display:flex;\n",
              "      flex-wrap:wrap;\n",
              "      gap: 12px;\n",
              "    }\n",
              "\n",
              "    .colab-df-convert {\n",
              "      background-color: #E8F0FE;\n",
              "      border: none;\n",
              "      border-radius: 50%;\n",
              "      cursor: pointer;\n",
              "      display: none;\n",
              "      fill: #1967D2;\n",
              "      height: 32px;\n",
              "      padding: 0 0 0 0;\n",
              "      width: 32px;\n",
              "    }\n",
              "\n",
              "    .colab-df-convert:hover {\n",
              "      background-color: #E2EBFA;\n",
              "      box-shadow: 0px 1px 2px rgba(60, 64, 67, 0.3), 0px 1px 3px 1px rgba(60, 64, 67, 0.15);\n",
              "      fill: #174EA6;\n",
              "    }\n",
              "\n",
              "    [theme=dark] .colab-df-convert {\n",
              "      background-color: #3B4455;\n",
              "      fill: #D2E3FC;\n",
              "    }\n",
              "\n",
              "    [theme=dark] .colab-df-convert:hover {\n",
              "      background-color: #434B5C;\n",
              "      box-shadow: 0px 1px 3px 1px rgba(0, 0, 0, 0.15);\n",
              "      filter: drop-shadow(0px 1px 2px rgba(0, 0, 0, 0.3));\n",
              "      fill: #FFFFFF;\n",
              "    }\n",
              "  </style>\n",
              "\n",
              "      <script>\n",
              "        const buttonEl =\n",
              "          document.querySelector('#df-89fad290-5c12-4120-9657-80f07ca6aa1e button.colab-df-convert');\n",
              "        buttonEl.style.display =\n",
              "          google.colab.kernel.accessAllowed ? 'block' : 'none';\n",
              "\n",
              "        async function convertToInteractive(key) {\n",
              "          const element = document.querySelector('#df-89fad290-5c12-4120-9657-80f07ca6aa1e');\n",
              "          const dataTable =\n",
              "            await google.colab.kernel.invokeFunction('convertToInteractive',\n",
              "                                                     [key], {});\n",
              "          if (!dataTable) return;\n",
              "\n",
              "          const docLinkHtml = 'Like what you see? Visit the ' +\n",
              "            '<a target=\"_blank\" href=https://colab.research.google.com/notebooks/data_table.ipynb>data table notebook</a>'\n",
              "            + ' to learn more about interactive tables.';\n",
              "          element.innerHTML = '';\n",
              "          dataTable['output_type'] = 'display_data';\n",
              "          await google.colab.output.renderOutput(dataTable, element);\n",
              "          const docLink = document.createElement('div');\n",
              "          docLink.innerHTML = docLinkHtml;\n",
              "          element.appendChild(docLink);\n",
              "        }\n",
              "      </script>\n",
              "    </div>\n",
              "  </div>\n",
              "  "
            ],
            "text/plain": [
              "                                   0               1               2   \\\n",
              "Paved Drive                  (N, 161)       (Y, 1843)         (P, 47)   \n",
              "BsmtExposure                (nan, 55)      (No, 1345)       (Gd, 189)   \n",
              "ProximityToMainRoad2     (Norm, 2035)      (Feedr, 9)       (PosN, 2)   \n",
              "KitchenQuality             (TA, 1062)       (Gd, 791)        (Fa, 53)   \n",
              "SaleCondition          (Normal, 1681)  (Partial, 175)  (Abnorml, 131)   \n",
              "Lot Config             (CulDSac, 130)  (Inside, 1496)   (Corner, 356)   \n",
              "FenceQuality              (nan, 1649)     (GdPrv, 88)    (MnPrv, 223)   \n",
              "SaleType                   (WD, 1772)      (New, 170)        (CWD, 9)   \n",
              "Neighborhood           (Edwards, 130)    (NAmes, 328)   (Sawyer, 101)   \n",
              "HeatingQuality             (Ex, 1042)       (Gd, 343)       (TA, 598)   \n",
              "RoofMaterial          (CompShg, 2019)   (Tar&Grv, 17)    (WdShake, 7)   \n",
              "Exterior1              (Wd Sdng, 305)  (Plywood, 156)  (VinylSd, 716)   \n",
              "Foundation                 (Slab, 32)   (CBlock, 864)    (PConc, 913)   \n",
              "HouseType                (1Fam, 1704)    (Duplex, 73)   (TwnhsE, 170)   \n",
              "Misc Feature              (nan, 1980)      (Shed, 63)       (Othr, 4)   \n",
              "GarageFinish               (Unf, 878)      (Fin, 498)      (RFn, 561)   \n",
              "ExteriorQual               (TA, 1258)       (Gd, 692)        (Fa, 28)   \n",
              "UtilitiesAvailable     (AllPub, 2049)     (NoSewr, 1)     (NoSeWa, 1)   \n",
              "HouseStyle             (1Story, 1048)   (1.5Fin, 221)   (2Story, 596)   \n",
              "MasVnrType               (None, 1246)  (BrkFace, 600)    (Stone, 172)   \n",
              "FireplaceQuality          (nan, 1001)       (Gd, 532)       (TA, 409)   \n",
              "BsmtCondition               (nan, 54)      (TA, 1836)        (Fa, 79)   \n",
              "BsmtHeight                  (nan, 54)       (TA, 916)       (Gd, 833)   \n",
              "BsmtFinishType2             (nan, 54)     (Unf, 1759)       (BLQ, 41)   \n",
              "PoolQuality               (nan, 2044)         (Ex, 2)         (Fa, 1)   \n",
              "RoofType                (Gable, 1619)   (Gambrel, 18)      (Hip, 389)   \n",
              "Functional                (Typ, 1900)      (Min1, 51)       (Maj2, 7)   \n",
              "ExteriorCond                (Gd, 201)      (TA, 1792)         (Ex, 7)   \n",
              "GarageCondition            (TA, 1857)      (nan, 114)        (Po, 11)   \n",
              "Electrical              (SBrkr, 1873)    (FuseA, 135)        (Mix, 1)   \n",
              "ProximityToMainRoad      (Norm, 1766)    (Feedr, 116)    (Artery, 69)   \n",
              "GarageQuality              (TA, 1826)      (nan, 114)         (Po, 4)   \n",
              "ZoningClass                (RL, 1589)       (RM, 330)   (C (all), 19)   \n",
              "TypeOfAlleyAccess         (nan, 1911)      (Grvl, 84)      (Pave, 56)   \n",
              "BsmtFinishType1             (nan, 54)      (BLQ, 192)      (Unf, 602)   \n",
              "TypeOfRoadAccess         (Pave, 2042)       (Grvl, 9)            None   \n",
              "Shape                      (IR1, 697)     (Reg, 1291)       (IR2, 51)   \n",
              "Flatness                  (Lvl, 1838)       (Bnk, 91)       (HLS, 83)   \n",
              "HeatingType              (GasA, 2019)       (Grav, 8)       (OthW, 2)   \n",
              "Central Air                  (N, 149)       (Y, 1902)            None   \n",
              "SlopeOfProperty           (Gtl, 1954)       (Mod, 85)       (Sev, 12)   \n",
              "Exterior2              (Wd Sdng, 287)  (Plywood, 190)  (VinylSd, 708)   \n",
              "GarageType              (Detchd, 567)  (Attchd, 1198)  (BuiltIn, 119)   \n",
              "\n",
              "                                  3               4              5   \\\n",
              "Paved Drive                     None            None           None   \n",
              "BsmtExposure               (Mn, 167)       (Av, 295)           None   \n",
              "ProximityToMainRoad2     (Artery, 1)       (RRNn, 2)      (PosA, 1)   \n",
              "KitchenQuality             (Ex, 145)            None           None   \n",
              "SaleCondition           (Alloca, 18)    (Family, 37)   (AdjLand, 9)   \n",
              "Lot Config                 (FR2, 59)       (FR3, 10)           None   \n",
              "FenceQuality              (MnWw, 10)      (GdWo, 81)           None   \n",
              "SaleType                   (COD, 61)     (ConLD, 20)     (ConLw, 5)   \n",
              "Neighborhood          (CollgCr, 184)  (NridgHt, 117)  (SawyerW, 83)   \n",
              "HeatingQuality              (Fa, 66)         (Po, 2)           None   \n",
              "RoofMaterial            (Membran, 1)    (WdShngl, 5)   (ClyTile, 1)   \n",
              "Exterior1              (CemntBd, 88)  (MetalSd, 311)  (AsbShng, 29)   \n",
              "Foundation             (BrkTil, 232)       (Wood, 3)     (Stone, 7)   \n",
              "HouseType                (Twnhs, 63)    (2fmCon, 41)           None   \n",
              "Misc Feature               (Gar2, 3)       (Elev, 1)           None   \n",
              "GarageFinish              (nan, 114)            None           None   \n",
              "ExteriorQual                (Ex, 73)            None           None   \n",
              "UtilitiesAvailable              None            None           None   \n",
              "HouseStyle               (2.5Fin, 8)    (2.5Unf, 17)     (SLvl, 88)   \n",
              "MasVnrType                 (nan, 15)    (BrkCmn, 17)    (CBlock, 1)   \n",
              "FireplaceQuality            (Fa, 52)        (Ex, 28)       (Po, 29)   \n",
              "BsmtCondition                (Po, 2)        (Gd, 77)        (Ex, 3)   \n",
              "BsmtHeight                 (Ex, 180)        (Fa, 66)        (Po, 2)   \n",
              "BsmtFinishType2            (LwQ, 62)       (ALQ, 31)      (Rec, 79)   \n",
              "PoolQuality                  (TA, 2)         (Gd, 2)           None   \n",
              "RoofType                  (Flat, 15)    (Mansard, 6)      (Shed, 4)   \n",
              "Functional                 (Mod, 24)      (Min2, 51)     (Maj1, 15)   \n",
              "ExteriorCond                (Fa, 49)         (Po, 2)           None   \n",
              "GarageCondition             (Fa, 57)        (Gd, 10)        (Ex, 2)   \n",
              "Electrical               (FuseF, 36)      (FuseP, 5)       (nan, 1)   \n",
              "ProximityToMainRoad       (RRAe, 18)      (PosN, 26)     (PosA, 14)   \n",
              "GarageQuality               (Fa, 90)        (Gd, 15)        (Ex, 2)   \n",
              "ZoningClass                 (FV, 95)        (RH, 14)   (I (all), 2)   \n",
              "TypeOfAlleyAccess               None            None           None   \n",
              "BsmtFinishType1           (GLQ, 599)      (Rec, 186)     (ALQ, 307)   \n",
              "TypeOfRoadAccess                None            None           None   \n",
              "Shape                      (IR3, 12)            None           None   \n",
              "Flatness                   (Low, 39)            None           None   \n",
              "HeatingType               (GasW, 18)      (Floor, 1)      (Wall, 3)   \n",
              "Central Air                     None            None           None   \n",
              "SlopeOfProperty                 None            None           None   \n",
              "Exterior2              (CmentBd, 87)  (MetalSd, 313)  (AsbShng, 24)   \n",
              "GarageType             (Basment, 26)      (nan, 113)  (CarPort, 10)   \n",
              "\n",
              "                                  6              7              8   \\\n",
              "Paved Drive                     None           None           None   \n",
              "BsmtExposure                    None           None           None   \n",
              "ProximityToMainRoad2       (RRAn, 1)           None           None   \n",
              "KitchenQuality                  None           None           None   \n",
              "SaleCondition                   None           None           None   \n",
              "Lot Config                      None           None           None   \n",
              "FenceQuality                    None           None           None   \n",
              "SaleType                    (Oth, 5)     (ConLI, 6)       (Con, 3)   \n",
              "Neighborhood            (Blueste, 8)   (IDOTRR, 70)    (SWISU, 32)   \n",
              "HeatingQuality                  None           None           None   \n",
              "RoofMaterial              (Metal, 1)           None           None   \n",
              "Exterior1             (HdBoard, 307)   (Stucco, 28)  (WdShing, 39)   \n",
              "Foundation                      None           None           None   \n",
              "HouseType                       None           None           None   \n",
              "Misc Feature                    None           None           None   \n",
              "GarageFinish                    None           None           None   \n",
              "ExteriorQual                    None           None           None   \n",
              "UtilitiesAvailable              None           None           None   \n",
              "HouseStyle              (SFoyer, 59)   (1.5Unf, 14)           None   \n",
              "MasVnrType                      None           None           None   \n",
              "FireplaceQuality                None           None           None   \n",
              "BsmtCondition                   None           None           None   \n",
              "BsmtHeight                      None           None           None   \n",
              "BsmtFinishType2            (GLQ, 25)           None           None   \n",
              "PoolQuality                     None           None           None   \n",
              "RoofType                        None           None           None   \n",
              "Functional                  (Sev, 2)       (Sal, 1)           None   \n",
              "ExteriorCond                    None           None           None   \n",
              "GarageCondition                 None           None           None   \n",
              "Electrical                      None           None           None   \n",
              "ProximityToMainRoad       (RRAn, 31)      (RRNn, 7)      (RRNe, 4)   \n",
              "GarageQuality                   None           None           None   \n",
              "ZoningClass             (A (agr), 2)           None           None   \n",
              "TypeOfAlleyAccess               None           None           None   \n",
              "BsmtFinishType1           (LwQ, 111)           None           None   \n",
              "TypeOfRoadAccess                None           None           None   \n",
              "Shape                           None           None           None   \n",
              "Flatness                        None           None           None   \n",
              "HeatingType                     None           None           None   \n",
              "Central Air                     None           None           None   \n",
              "SlopeOfProperty                 None           None           None   \n",
              "Exterior2             (HdBoard, 280)  (Wd Shng, 63)   (Stucco, 32)   \n",
              "GarageType              (2Types, 18)           None           None   \n",
              "\n",
              "                                 9   ...             17              18  \\\n",
              "Paved Drive                    None  ...           None            None   \n",
              "BsmtExposure                   None  ...           None            None   \n",
              "ProximityToMainRoad2           None  ...           None            None   \n",
              "KitchenQuality                 None  ...           None            None   \n",
              "SaleCondition                  None  ...           None            None   \n",
              "Lot Config                     None  ...           None            None   \n",
              "FenceQuality                   None  ...           None            None   \n",
              "SaleType                       None  ...           None            None   \n",
              "Neighborhood            (Greens, 5)  ...  (ClearCr, 33)  (Gilbert, 112)   \n",
              "HeatingQuality                 None  ...           None            None   \n",
              "RoofMaterial                   None  ...           None            None   \n",
              "Exterior1             (BrkFace, 60)  ...           None            None   \n",
              "Foundation                     None  ...           None            None   \n",
              "HouseType                      None  ...           None            None   \n",
              "Misc Feature                   None  ...           None            None   \n",
              "GarageFinish                   None  ...           None            None   \n",
              "ExteriorQual                   None  ...           None            None   \n",
              "UtilitiesAvailable             None  ...           None            None   \n",
              "HouseStyle                     None  ...           None            None   \n",
              "MasVnrType                     None  ...           None            None   \n",
              "FireplaceQuality               None  ...           None            None   \n",
              "BsmtCondition                  None  ...           None            None   \n",
              "BsmtHeight                     None  ...           None            None   \n",
              "BsmtFinishType2                None  ...           None            None   \n",
              "PoolQuality                    None  ...           None            None   \n",
              "RoofType                       None  ...           None            None   \n",
              "Functional                     None  ...           None            None   \n",
              "ExteriorCond                   None  ...           None            None   \n",
              "GarageCondition                None  ...           None            None   \n",
              "Electrical                     None  ...           None            None   \n",
              "ProximityToMainRoad            None  ...           None            None   \n",
              "GarageQuality                  None  ...           None            None   \n",
              "ZoningClass                    None  ...           None            None   \n",
              "TypeOfAlleyAccess              None  ...           None            None   \n",
              "BsmtFinishType1                None  ...           None            None   \n",
              "TypeOfRoadAccess               None  ...           None            None   \n",
              "Shape                          None  ...           None            None   \n",
              "Flatness                       None  ...           None            None   \n",
              "HeatingType                    None  ...           None            None   \n",
              "Central Air                    None  ...           None            None   \n",
              "SlopeOfProperty                None  ...           None            None   \n",
              "Exterior2             (Brk Cmn, 19)  ...           None            None   \n",
              "GarageType                     None  ...           None            None   \n",
              "\n",
              "                                19             20             21  \\\n",
              "Paved Drive                   None           None           None   \n",
              "BsmtExposure                  None           None           None   \n",
              "ProximityToMainRoad2          None           None           None   \n",
              "KitchenQuality                None           None           None   \n",
              "SaleCondition                 None           None           None   \n",
              "Lot Config                    None           None           None   \n",
              "FenceQuality                  None           None           None   \n",
              "SaleType                      None           None           None   \n",
              "Neighborhood          (NWAmes, 94)  (NPkVill, 17)  (Veenker, 16)   \n",
              "HeatingQuality                None           None           None   \n",
              "RoofMaterial                  None           None           None   \n",
              "Exterior1                     None           None           None   \n",
              "Foundation                    None           None           None   \n",
              "HouseType                     None           None           None   \n",
              "Misc Feature                  None           None           None   \n",
              "GarageFinish                  None           None           None   \n",
              "ExteriorQual                  None           None           None   \n",
              "UtilitiesAvailable            None           None           None   \n",
              "HouseStyle                    None           None           None   \n",
              "MasVnrType                    None           None           None   \n",
              "FireplaceQuality              None           None           None   \n",
              "BsmtCondition                 None           None           None   \n",
              "BsmtHeight                    None           None           None   \n",
              "BsmtFinishType2               None           None           None   \n",
              "PoolQuality                   None           None           None   \n",
              "RoofType                      None           None           None   \n",
              "Functional                    None           None           None   \n",
              "ExteriorCond                  None           None           None   \n",
              "GarageCondition               None           None           None   \n",
              "Electrical                    None           None           None   \n",
              "ProximityToMainRoad           None           None           None   \n",
              "GarageQuality                 None           None           None   \n",
              "ZoningClass                   None           None           None   \n",
              "TypeOfAlleyAccess             None           None           None   \n",
              "BsmtFinishType1               None           None           None   \n",
              "TypeOfRoadAccess              None           None           None   \n",
              "Shape                         None           None           None   \n",
              "Flatness                      None           None           None   \n",
              "HeatingType                   None           None           None   \n",
              "Central Air                   None           None           None   \n",
              "SlopeOfProperty               None           None           None   \n",
              "Exterior2                     None           None           None   \n",
              "GarageType                    None           None           None   \n",
              "\n",
              "                                  22             23             24  \\\n",
              "Paved Drive                     None           None           None   \n",
              "BsmtExposure                    None           None           None   \n",
              "ProximityToMainRoad2            None           None           None   \n",
              "KitchenQuality                  None           None           None   \n",
              "SaleCondition                   None           None           None   \n",
              "Lot Config                      None           None           None   \n",
              "FenceQuality                    None           None           None   \n",
              "SaleType                        None           None           None   \n",
              "Neighborhood          (Somerst, 126)  (Blmngtn, 17)  (MeadowV, 23)   \n",
              "HeatingQuality                  None           None           None   \n",
              "RoofMaterial                    None           None           None   \n",
              "Exterior1                       None           None           None   \n",
              "Foundation                      None           None           None   \n",
              "HouseType                       None           None           None   \n",
              "Misc Feature                    None           None           None   \n",
              "GarageFinish                    None           None           None   \n",
              "ExteriorQual                    None           None           None   \n",
              "UtilitiesAvailable              None           None           None   \n",
              "HouseStyle                      None           None           None   \n",
              "MasVnrType                      None           None           None   \n",
              "FireplaceQuality                None           None           None   \n",
              "BsmtCondition                   None           None           None   \n",
              "BsmtHeight                      None           None           None   \n",
              "BsmtFinishType2                 None           None           None   \n",
              "PoolQuality                     None           None           None   \n",
              "RoofType                        None           None           None   \n",
              "Functional                      None           None           None   \n",
              "ExteriorCond                    None           None           None   \n",
              "GarageCondition                 None           None           None   \n",
              "Electrical                      None           None           None   \n",
              "ProximityToMainRoad             None           None           None   \n",
              "GarageQuality                   None           None           None   \n",
              "ZoningClass                     None           None           None   \n",
              "TypeOfAlleyAccess               None           None           None   \n",
              "BsmtFinishType1                 None           None           None   \n",
              "TypeOfRoadAccess                None           None           None   \n",
              "Shape                           None           None           None   \n",
              "Flatness                        None           None           None   \n",
              "HeatingType                     None           None           None   \n",
              "Central Air                     None           None           None   \n",
              "SlopeOfProperty                 None           None           None   \n",
              "Exterior2                       None           None           None   \n",
              "GarageType                      None           None           None   \n",
              "\n",
              "                                25            26  \n",
              "Paved Drive                   None          None  \n",
              "BsmtExposure                  None          None  \n",
              "ProximityToMainRoad2          None          None  \n",
              "KitchenQuality                None          None  \n",
              "SaleCondition                 None          None  \n",
              "Lot Config                    None          None  \n",
              "FenceQuality                  None          None  \n",
              "SaleType                      None          None  \n",
              "Neighborhood          (BrDale, 17)  (GrnHill, 2)  \n",
              "HeatingQuality                None          None  \n",
              "RoofMaterial                  None          None  \n",
              "Exterior1                     None          None  \n",
              "Foundation                    None          None  \n",
              "HouseType                     None          None  \n",
              "Misc Feature                  None          None  \n",
              "GarageFinish                  None          None  \n",
              "ExteriorQual                  None          None  \n",
              "UtilitiesAvailable            None          None  \n",
              "HouseStyle                    None          None  \n",
              "MasVnrType                    None          None  \n",
              "FireplaceQuality              None          None  \n",
              "BsmtCondition                 None          None  \n",
              "BsmtHeight                    None          None  \n",
              "BsmtFinishType2               None          None  \n",
              "PoolQuality                   None          None  \n",
              "RoofType                      None          None  \n",
              "Functional                    None          None  \n",
              "ExteriorCond                  None          None  \n",
              "GarageCondition               None          None  \n",
              "Electrical                    None          None  \n",
              "ProximityToMainRoad           None          None  \n",
              "GarageQuality                 None          None  \n",
              "ZoningClass                   None          None  \n",
              "TypeOfAlleyAccess             None          None  \n",
              "BsmtFinishType1               None          None  \n",
              "TypeOfRoadAccess              None          None  \n",
              "Shape                         None          None  \n",
              "Flatness                      None          None  \n",
              "HeatingType                   None          None  \n",
              "Central Air                   None          None  \n",
              "SlopeOfProperty               None          None  \n",
              "Exterior2                     None          None  \n",
              "GarageType                    None          None  \n",
              "\n",
              "[43 rows x 27 columns]"
            ]
          },
          "execution_count": 26,
          "metadata": {},
          "output_type": "execute_result"
        }
      ],
      "source": [
        "#### The unique values and frequencies for text features:\n",
        "\n",
        "import collections\n",
        "\n",
        "text = features.dtypes[features.dtypes =='object'].index\n",
        "\n",
        "frequencyDict = []\n",
        "for i in features[text].columns:\n",
        "    frequencyDict.append(list(collections.Counter(features[text][i]).items()))\n",
        "\n",
        "be = pd.DataFrame(frequencyDict, index = features[text].columns)\n",
        "be\n",
        "# be.to_csv('train features.csv')"
      ]
    },
    {
      "cell_type": "code",
      "execution_count": null,
      "metadata": {
        "colab": {
          "base_uri": "https://localhost:8080/"
        },
        "id": "zbJ0tnnbhEk2",
        "outputId": "4de31a50-45e9-4796-e477-ffb7a0b1d726"
      },
      "outputs": [
        {
          "name": "stdout",
          "output_type": "stream",
          "text": [
            "Shape all_data: (2926, 79)\n"
          ]
        }
      ],
      "source": [
        "from sklearn.preprocessing import LabelEncoder\n",
        "\n",
        "cols = ['Paved Drive','BsmtExposure','Foundation','GarageFinish','Functional', 'Shape','Central Air',\n",
        "            'FenceQuality','BsmtFinishType1','BsmtFinishType2','PoolQuality','TypeOfAlleyAccess','TypeOfRoadAccess',\n",
        "            'KitchenQuality','HeatingQuality','ExteriorQual','BsmtCondition','BsmtHeight',\n",
        "            'ExteriorCond','GarageCondition','FireplaceQuality','GarageQuality']\n",
        "\n",
        "for c in cols:\n",
        "    lbl = LabelEncoder() \n",
        "    lbl.fit(list(all_features[c].values)) \n",
        "    all_features[c] = lbl.transform(list(all_features[c].values))\n",
        "print('Shape all_data: {}'.format(all_features.shape)) "
      ]
    },
    {
      "cell_type": "markdown",
      "metadata": {
        "id": "JsgYify5hEk3"
      },
      "source": [
        "#### Drop insignificant numeric features or sequencial related factors"
      ]
    },
    {
      "cell_type": "code",
      "execution_count": null,
      "metadata": {
        "colab": {
          "base_uri": "https://localhost:8080/"
        },
        "id": "G5X_8zVYhEk3",
        "outputId": "4ca19fc1-6516-43b1-f031-798fd05ff755"
      },
      "outputs": [
        {
          "data": {
            "text/plain": [
              "Index(['PoolSize', 'Misc', 'YearSold', 'BsmtFinish2Area', 'SeasonPorchArea',\n",
              "       'LowQualityFinishArea', 'BsmtHalfBaths', 'OverallRating', 'MonthSold',\n",
              "       'BuildingClass'],\n",
              "      dtype='object')"
            ]
          },
          "execution_count": 28,
          "metadata": {},
          "output_type": "execute_result"
        }
      ],
      "source": [
        "corrmat = train.corr()\n",
        "insig_num_features = corrmat[np.absolute(corrmat['SalePrice']) < 0.1].index\n",
        "insig_num_features"
      ]
    },
    {
      "cell_type": "code",
      "execution_count": null,
      "metadata": {
        "colab": {
          "base_uri": "https://localhost:8080/"
        },
        "id": "MNp2aMxAhEk3",
        "outputId": "723768eb-df5d-42ad-d4e7-e0ff824666ae"
      },
      "outputs": [
        {
          "data": {
            "text/plain": [
              "(2926, 69)"
            ]
          },
          "execution_count": 29,
          "metadata": {},
          "output_type": "execute_result"
        }
      ],
      "source": [
        "for i in insig_num_features:\n",
        "    if i in all_features.columns:\n",
        "        all_features.drop(i,axis=1, inplace=True)\n",
        "    else:\n",
        "        continue\n",
        "\n",
        "all_features.shape"
      ]
    },
    {
      "cell_type": "code",
      "execution_count": null,
      "metadata": {
        "colab": {
          "base_uri": "https://localhost:8080/"
        },
        "id": "0MVqvoC7hEk3",
        "outputId": "97489da0-d243-463b-91a0-3b88b8804072"
      },
      "outputs": [
        {
          "name": "stdout",
          "output_type": "stream",
          "text": [
            "KitchenQuality ExteriorQual\n",
            "0.6504714108898612\n",
            "LivingArea TotalRooms\n",
            "0.8080115593626962\n",
            "BsmtFullBaths BsmtFinish1Area\n",
            "0.6548257209846816\n",
            "TotalRooms Bedrooms\n",
            "0.679947984823169\n",
            "GarageCars GarageArea\n",
            "0.8923457716400174\n"
          ]
        }
      ],
      "source": [
        "cor = all_features.corr()\n",
        "for i in range(len(cor.index)-1):\n",
        "    for j in range(len(cor.columns)-1):\n",
        "        if cor.iloc[i][j] > 0.65 and i<j:\n",
        "#             print(i,j)\n",
        "            print(cor.index[i],cor.columns[j])\n",
        "            print(cor.iloc[i,j])"
      ]
    },
    {
      "cell_type": "code",
      "execution_count": null,
      "metadata": {
        "id": "yoCwXG3PhEk3"
      },
      "outputs": [],
      "source": [
        "all_features.drop(['TotalRooms','GarageArea','ExteriorQual','BsmtFinish1Area'],\n",
        "                  axis=1, inplace=True)"
      ]
    },
    {
      "cell_type": "markdown",
      "metadata": {
        "id": "uC5A2z8HhEk4"
      },
      "source": [
        "#### Create one key factor"
      ]
    },
    {
      "cell_type": "code",
      "execution_count": null,
      "metadata": {
        "id": "PLQaSql5hEk4"
      },
      "outputs": [],
      "source": [
        "all_features['TotalSF'] = all_features['TotalBsmtArea'] + all_features['1stFloorArea'] + all_features['2ndFloorArea']  "
      ]
    },
    {
      "cell_type": "markdown",
      "metadata": {
        "id": "lAvbpYHihEk4"
      },
      "source": [
        "#### Normalize"
      ]
    },
    {
      "cell_type": "code",
      "execution_count": null,
      "metadata": {
        "colab": {
          "base_uri": "https://localhost:8080/"
        },
        "id": "wlBWh5SAhEk4",
        "outputId": "e436e4d0-be2b-4520-936f-f60111afb6d0",
        "scrolled": true
      },
      "outputs": [
        {
          "name": "stderr",
          "output_type": "stream",
          "text": [
            "/usr/local/lib/python3.7/dist-packages/sklearn/preprocessing/_data.py:3253: RuntimeWarning: divide by zero encountered in log\n",
            "  loglike = -n_samples / 2 * np.log(x_trans.var())\n",
            "/usr/local/lib/python3.7/dist-packages/sklearn/preprocessing/_data.py:3253: RuntimeWarning: divide by zero encountered in log\n",
            "  loglike = -n_samples / 2 * np.log(x_trans.var())\n"
          ]
        }
      ],
      "source": [
        "from sklearn.preprocessing import PowerTransformer\n",
        "\n",
        "num = all_features.dtypes[all_features.dtypes !='object'].index\n",
        "\n",
        "skew = all_features[num].apply(lambda x: x.skew())\n",
        "skewed_features = skew[abs(skew) >= 0.75].sort_values()\n",
        "\n",
        "for col in skewed_features.index:\n",
        "    power = PowerTransformer(method='yeo-johnson', standardize=True)   # method='box-cox''yeo-johnson'\n",
        "    all_features[[col]] = power.fit_transform(all_features[[col]])"
      ]
    },
    {
      "cell_type": "markdown",
      "metadata": {
        "id": "4WNYyTX2hEk4"
      },
      "source": [
        "###  dummy"
      ]
    },
    {
      "cell_type": "code",
      "execution_count": null,
      "metadata": {
        "colab": {
          "base_uri": "https://localhost:8080/"
        },
        "id": "VN-6IyxVhEk4",
        "outputId": "40b72910-f9cd-4175-9264-6ef737f6b3ed"
      },
      "outputs": [
        {
          "data": {
            "text/plain": [
              "(2926, 495)"
            ]
          },
          "execution_count": 34,
          "metadata": {},
          "output_type": "execute_result"
        }
      ],
      "source": [
        "all_features = pd.get_dummies(all_features)\n",
        "all_features.shape"
      ]
    },
    {
      "cell_type": "markdown",
      "metadata": {
        "id": "mWLqjVqThEk4"
      },
      "source": [
        "### Split train and test"
      ]
    },
    {
      "cell_type": "code",
      "execution_count": null,
      "metadata": {
        "colab": {
          "base_uri": "https://localhost:8080/"
        },
        "id": "20-XxMxdhEk4",
        "outputId": "19344d2d-cc9a-45f1-eeb9-cd2d1c8bf7f2"
      },
      "outputs": [
        {
          "data": {
            "text/plain": [
              "(2047, 495)"
            ]
          },
          "execution_count": 35,
          "metadata": {},
          "output_type": "execute_result"
        }
      ],
      "source": [
        "X_train=all_features.iloc[:-n_test,:]\n",
        "X_test=all_features.iloc[-n_test:,:]\n",
        "X_train.shape"
      ]
    },
    {
      "cell_type": "code",
      "execution_count": null,
      "metadata": {
        "id": "e51mo72RhEk4"
      },
      "outputs": [],
      "source": [
        "y_train = train['SalePrice'] "
      ]
    },
    {
      "cell_type": "markdown",
      "metadata": {
        "id": "Js5tfZ7bhEk5"
      },
      "source": [
        "### Training\n",
        "\n",
        "1. elasticN\n",
        "\n",
        "2. linear regression\n",
        "\n",
        "3. random forest\n",
        "\n",
        "4. stacking\n",
        "\n",
        "5. autogluon"
      ]
    },
    {
      "cell_type": "markdown",
      "metadata": {
        "id": "RLGOD166hEk5"
      },
      "source": [
        "### Training via elasticN"
      ]
    },
    {
      "cell_type": "code",
      "execution_count": null,
      "metadata": {
        "id": "wDMW2yJvhEk5"
      },
      "outputs": [],
      "source": [
        "from sklearn import linear_model\n",
        "from sklearn.model_selection import cross_val_score"
      ]
    },
    {
      "cell_type": "code",
      "execution_count": null,
      "metadata": {
        "colab": {
          "base_uri": "https://localhost:8080/"
        },
        "id": "so4IFfBlhEk5",
        "outputId": "546ae28b-bb3a-4676-e8a3-ec08f1ee9c5a"
      },
      "outputs": [
        {
          "name": "stderr",
          "output_type": "stream",
          "text": [
            "/usr/local/lib/python3.7/dist-packages/sklearn/linear_model/_coordinate_descent.py:644: ConvergenceWarning: Objective did not converge. You might want to increase the number of iterations. Duality gap: 0.037258754892809165, tolerance: 0.017708912286803297\n",
            "  positive,\n"
          ]
        }
      ],
      "source": [
        "alphas = [0.0001, 0.0005, 0.001, 0.01, 0.1, 1, 10]\n",
        "\n",
        "test_scores = []\n",
        "for alpha in alphas:\n",
        "    ElasticN = linear_model.ElasticNetCV(alphas=[alpha],\n",
        "                                    l1_ratio=[.01, .1, .5, .9, .99],\n",
        "                                    max_iter=5000)\n",
        "    test_score  = cross_val_score(ElasticN, X_train, y_train, cv=5)\n",
        "\n",
        "    test_scores.append(test_score.mean())\n",
        "\n",
        "best_alpha = alphas[np.where(test_scores == np.max(test_scores))[0][0]]\n",
        "\n",
        "ElasticN = linear_model.ElasticNetCV(alphas=[best_alpha],\n",
        "                                    l1_ratio=[.01, .1, .5, .9, .99],\n",
        "                                    max_iter=5000)\n",
        "ent = ElasticN.fit(X_train, y_train)\n",
        "pred_Y1 = ent.predict(X_test)"
      ]
    },
    {
      "cell_type": "code",
      "execution_count": null,
      "metadata": {
        "colab": {
          "base_uri": "https://localhost:8080/"
        },
        "id": "-BetFDq2hEk5",
        "outputId": "9bae86ff-e17a-4a24-aa7f-8d34963a8571"
      },
      "outputs": [
        {
          "name": "stdout",
          "output_type": "stream",
          "text": [
            "elasticN rmse: 0.09857985464454506\n"
          ]
        }
      ],
      "source": [
        "pred_ytrain = ent.predict(X_train)\n",
        "\n",
        "r1 = rmse(y_train,pred_ytrain)\n",
        "print(f\"elasticN rmse: {r1}\" )"
      ]
    },
    {
      "cell_type": "code",
      "execution_count": null,
      "metadata": {
        "colab": {
          "base_uri": "https://localhost:8080/",
          "height": 206
        },
        "id": "FUZJPLo5hEk5",
        "outputId": "6c6f23d0-8d91-4356-f4de-035f122dcda6"
      },
      "outputs": [
        {
          "data": {
            "text/html": [
              "\n",
              "  <div id=\"df-682ca6dc-3aa8-4de3-8082-4f732364772d\">\n",
              "    <div class=\"colab-df-container\">\n",
              "      <div>\n",
              "<style scoped>\n",
              "    .dataframe tbody tr th:only-of-type {\n",
              "        vertical-align: middle;\n",
              "    }\n",
              "\n",
              "    .dataframe tbody tr th {\n",
              "        vertical-align: top;\n",
              "    }\n",
              "\n",
              "    .dataframe thead th {\n",
              "        text-align: right;\n",
              "    }\n",
              "</style>\n",
              "<table border=\"1\" class=\"dataframe\">\n",
              "  <thead>\n",
              "    <tr style=\"text-align: right;\">\n",
              "      <th></th>\n",
              "      <th>ID</th>\n",
              "      <th>SalePrice</th>\n",
              "    </tr>\n",
              "  </thead>\n",
              "  <tbody>\n",
              "    <tr>\n",
              "      <th>0</th>\n",
              "      <td>2051</td>\n",
              "      <td>204828.301165</td>\n",
              "    </tr>\n",
              "    <tr>\n",
              "      <th>1</th>\n",
              "      <td>2052</td>\n",
              "      <td>340293.750617</td>\n",
              "    </tr>\n",
              "    <tr>\n",
              "      <th>2</th>\n",
              "      <td>2053</td>\n",
              "      <td>139111.328638</td>\n",
              "    </tr>\n",
              "    <tr>\n",
              "      <th>3</th>\n",
              "      <td>2054</td>\n",
              "      <td>174465.673093</td>\n",
              "    </tr>\n",
              "    <tr>\n",
              "      <th>4</th>\n",
              "      <td>2055</td>\n",
              "      <td>278793.129182</td>\n",
              "    </tr>\n",
              "  </tbody>\n",
              "</table>\n",
              "</div>\n",
              "      <button class=\"colab-df-convert\" onclick=\"convertToInteractive('df-682ca6dc-3aa8-4de3-8082-4f732364772d')\"\n",
              "              title=\"Convert this dataframe to an interactive table.\"\n",
              "              style=\"display:none;\">\n",
              "        \n",
              "  <svg xmlns=\"http://www.w3.org/2000/svg\" height=\"24px\"viewBox=\"0 0 24 24\"\n",
              "       width=\"24px\">\n",
              "    <path d=\"M0 0h24v24H0V0z\" fill=\"none\"/>\n",
              "    <path d=\"M18.56 5.44l.94 2.06.94-2.06 2.06-.94-2.06-.94-.94-2.06-.94 2.06-2.06.94zm-11 1L8.5 8.5l.94-2.06 2.06-.94-2.06-.94L8.5 2.5l-.94 2.06-2.06.94zm10 10l.94 2.06.94-2.06 2.06-.94-2.06-.94-.94-2.06-.94 2.06-2.06.94z\"/><path d=\"M17.41 7.96l-1.37-1.37c-.4-.4-.92-.59-1.43-.59-.52 0-1.04.2-1.43.59L10.3 9.45l-7.72 7.72c-.78.78-.78 2.05 0 2.83L4 21.41c.39.39.9.59 1.41.59.51 0 1.02-.2 1.41-.59l7.78-7.78 2.81-2.81c.8-.78.8-2.07 0-2.86zM5.41 20L4 18.59l7.72-7.72 1.47 1.35L5.41 20z\"/>\n",
              "  </svg>\n",
              "      </button>\n",
              "      \n",
              "  <style>\n",
              "    .colab-df-container {\n",
              "      display:flex;\n",
              "      flex-wrap:wrap;\n",
              "      gap: 12px;\n",
              "    }\n",
              "\n",
              "    .colab-df-convert {\n",
              "      background-color: #E8F0FE;\n",
              "      border: none;\n",
              "      border-radius: 50%;\n",
              "      cursor: pointer;\n",
              "      display: none;\n",
              "      fill: #1967D2;\n",
              "      height: 32px;\n",
              "      padding: 0 0 0 0;\n",
              "      width: 32px;\n",
              "    }\n",
              "\n",
              "    .colab-df-convert:hover {\n",
              "      background-color: #E2EBFA;\n",
              "      box-shadow: 0px 1px 2px rgba(60, 64, 67, 0.3), 0px 1px 3px 1px rgba(60, 64, 67, 0.15);\n",
              "      fill: #174EA6;\n",
              "    }\n",
              "\n",
              "    [theme=dark] .colab-df-convert {\n",
              "      background-color: #3B4455;\n",
              "      fill: #D2E3FC;\n",
              "    }\n",
              "\n",
              "    [theme=dark] .colab-df-convert:hover {\n",
              "      background-color: #434B5C;\n",
              "      box-shadow: 0px 1px 3px 1px rgba(0, 0, 0, 0.15);\n",
              "      filter: drop-shadow(0px 1px 2px rgba(0, 0, 0, 0.3));\n",
              "      fill: #FFFFFF;\n",
              "    }\n",
              "  </style>\n",
              "\n",
              "      <script>\n",
              "        const buttonEl =\n",
              "          document.querySelector('#df-682ca6dc-3aa8-4de3-8082-4f732364772d button.colab-df-convert');\n",
              "        buttonEl.style.display =\n",
              "          google.colab.kernel.accessAllowed ? 'block' : 'none';\n",
              "\n",
              "        async function convertToInteractive(key) {\n",
              "          const element = document.querySelector('#df-682ca6dc-3aa8-4de3-8082-4f732364772d');\n",
              "          const dataTable =\n",
              "            await google.colab.kernel.invokeFunction('convertToInteractive',\n",
              "                                                     [key], {});\n",
              "          if (!dataTable) return;\n",
              "\n",
              "          const docLinkHtml = 'Like what you see? Visit the ' +\n",
              "            '<a target=\"_blank\" href=https://colab.research.google.com/notebooks/data_table.ipynb>data table notebook</a>'\n",
              "            + ' to learn more about interactive tables.';\n",
              "          element.innerHTML = '';\n",
              "          dataTable['output_type'] = 'display_data';\n",
              "          await google.colab.output.renderOutput(dataTable, element);\n",
              "          const docLink = document.createElement('div');\n",
              "          docLink.innerHTML = docLinkHtml;\n",
              "          element.appendChild(docLink);\n",
              "        }\n",
              "      </script>\n",
              "    </div>\n",
              "  </div>\n",
              "  "
            ],
            "text/plain": [
              "     ID      SalePrice\n",
              "0  2051  204828.301165\n",
              "1  2052  340293.750617\n",
              "2  2053  139111.328638\n",
              "3  2054  174465.673093\n",
              "4  2055  278793.129182"
            ]
          },
          "execution_count": 36,
          "metadata": {},
          "output_type": "execute_result"
        }
      ],
      "source": [
        "# pred = np.exp(pred_Y1)\n",
        "pred_ent = np.exp(pred_Y1)\n",
        "submission_ent = pd.concat([pd.DataFrame(test_ID),pd.DataFrame(pred_ent)],axis=1)\n",
        "submission_ent.columns = ['ID', 'SalePrice']\n",
        "# Sub.to_csv('submission_ent.csv',index = False)\n",
        "submission_ent.head()"
      ]
    },
    {
      "cell_type": "markdown",
      "metadata": {
        "id": "M1QOLxZghEk5"
      },
      "source": [
        "### train via linear regression"
      ]
    },
    {
      "cell_type": "code",
      "execution_count": null,
      "metadata": {
        "id": "R0HlGCt8hEk5"
      },
      "outputs": [],
      "source": [
        "from scipy import stats\n",
        "from sklearn.linear_model import LinearRegression"
      ]
    },
    {
      "cell_type": "code",
      "execution_count": null,
      "metadata": {
        "colab": {
          "base_uri": "https://localhost:8080/"
        },
        "id": "DWVASh1FhEk5",
        "outputId": "9da1d999-6a20-4eaf-c0cf-bfe9d89ebbfd"
      },
      "outputs": [
        {
          "name": "stdout",
          "output_type": "stream",
          "text": [
            "       ID      SalePrice\n",
            "0    2051  206253.831908\n",
            "1    2052  338146.651403\n",
            "2    2053  138100.371414\n",
            "3    2054  216746.011312\n",
            "4    2055  270788.310165\n",
            "..    ...            ...\n",
            "874  2925  346919.334975\n",
            "875  2926  221369.640749\n",
            "876  2927  201946.973033\n",
            "877  2928  151561.355117\n",
            "878  2929  136153.823295\n",
            "\n",
            "[879 rows x 2 columns]\n"
          ]
        },
        {
          "name": "stderr",
          "output_type": "stream",
          "text": [
            "/usr/local/lib/python3.7/dist-packages/ipykernel_launcher.py:5: RuntimeWarning: overflow encountered in exp\n",
            "  \"\"\"\n"
          ]
        }
      ],
      "source": [
        "model = LinearRegression()\n",
        "model.fit(X_train, y_train)\n",
        "\n",
        "y_pr = model.predict(X_test)\n",
        "y_pred = np.exp(y_pr)\n",
        "sub_lr = pd.concat([pd.DataFrame(test_ID),pd.DataFrame(y_pred)],axis=1)\n",
        "sub_lr.columns = ['ID', 'SalePrice']\n",
        "print(sub_lr)\n",
        "# sub_lr.to_csv('submission6.csv',index = False)"
      ]
    },
    {
      "cell_type": "code",
      "execution_count": null,
      "metadata": {
        "colab": {
          "base_uri": "https://localhost:8080/"
        },
        "id": "icLEI4o5hEk5",
        "outputId": "9058b45e-e9c6-4687-fbb4-9b54c0f2583f"
      },
      "outputs": [
        {
          "name": "stdout",
          "output_type": "stream",
          "text": [
            "linear regression rmse: 0.08495155832392111\n"
          ]
        }
      ],
      "source": [
        "pred_ytrain2 = model.predict(X_train)\n",
        "\n",
        "r2 = rmse(y_train,pred_ytrain2)\n",
        "print(f\"linear regression rmse: {r2}\" )"
      ]
    },
    {
      "cell_type": "markdown",
      "metadata": {
        "id": "LgDc0kIthEk8"
      },
      "source": [
        "### train via random forest"
      ]
    },
    {
      "cell_type": "code",
      "execution_count": null,
      "metadata": {
        "id": "EeSac28bhEk8"
      },
      "outputs": [],
      "source": [
        "from sklearn.ensemble import RandomForestRegressor\n",
        "from sklearn.model_selection import cross_val_score"
      ]
    },
    {
      "cell_type": "code",
      "execution_count": null,
      "metadata": {
        "id": "4LDFTOtdhEk8"
      },
      "outputs": [],
      "source": [
        "Max_features = [.1,.3,.5,.7,.9,.99]\n",
        "test_scores = []\n",
        "for feature in Max_features:\n",
        "    RFR = RandomForestRegressor(n_estimators = 200,max_features = feature)\n",
        "    test_score  = cross_val_score(RFR, X_train, y_train, cv=5)\n",
        "    test_scores.append(test_score.mean())\n",
        "    \n",
        "best_max = Max_features[np.where(test_scores == np.max(test_scores))[0][0]]\n",
        "\n",
        "RFR = RandomForestRegressor(n_estimators = 200,max_features = best_max)\n",
        "clf = RFR.fit(X_train,y_train)"
      ]
    },
    {
      "cell_type": "code",
      "execution_count": null,
      "metadata": {
        "colab": {
          "base_uri": "https://localhost:8080/"
        },
        "id": "H7uF8ePnhEk8",
        "outputId": "b2051680-cbd8-47c1-b787-a403add1d023"
      },
      "outputs": [
        {
          "name": "stdout",
          "output_type": "stream",
          "text": [
            "       ID      SalePrice\n",
            "0    2051  199770.903012\n",
            "1    2052  331091.441321\n",
            "2    2053  146664.475290\n",
            "3    2054  175852.593275\n",
            "4    2055  280302.023690\n",
            "..    ...            ...\n",
            "874  2925  343550.963288\n",
            "875  2926  213400.664918\n",
            "876  2927  202424.784246\n",
            "877  2928  154913.823371\n",
            "878  2929  154258.067357\n",
            "\n",
            "[879 rows x 2 columns]\n"
          ]
        }
      ],
      "source": [
        "pred_Y2 = clf.predict(X_test)\n",
        "y_pred3 = np.exp(pred_Y2)\n",
        "sub_rf = pd.concat([pd.DataFrame(test_ID),pd.DataFrame(y_pred3)],axis=1)\n",
        "sub_rf.columns = ['ID', 'SalePrice']\n",
        "print(sub_rf)\n",
        "# sub_rf.to_csv('sub_rf.csv',index = False)"
      ]
    },
    {
      "cell_type": "code",
      "execution_count": null,
      "metadata": {
        "colab": {
          "base_uri": "https://localhost:8080/"
        },
        "id": "wVk1F6DghEk8",
        "outputId": "afc7452a-5b1d-4571-ba20-be6b0c9725e1"
      },
      "outputs": [
        {
          "name": "stdout",
          "output_type": "stream",
          "text": [
            "random forest rmse: 0.044052320262567134\n"
          ]
        }
      ],
      "source": [
        "pred_ytrain3 = clf.predict(X_train)\n",
        "\n",
        "r3 = rmse(y_train,pred_ytrain3)\n",
        "print(f\"random forest rmse: {r3}\" )"
      ]
    },
    {
      "cell_type": "code",
      "execution_count": null,
      "metadata": {
        "id": "IsKphgQ5hEk8"
      },
      "outputs": [],
      "source": [
        "r_all = pd.DataFrame([r1,r2,r3],index = ['ElasticN','Linear Regression','Random Forest']) #,'stacking'\n",
        "# r_all[0][1]"
      ]
    },
    {
      "cell_type": "code",
      "execution_count": null,
      "metadata": {
        "colab": {
          "base_uri": "https://localhost:8080/",
          "height": 381
        },
        "id": "sV-sSXCNmFx7",
        "outputId": "62304aea-bb1a-4da4-cf0f-a27040ae565c"
      },
      "outputs": [
        {
          "data": {
            "text/plain": [
              "Text(0.5, 1.0, 'Rmse')"
            ]
          },
          "execution_count": 110,
          "metadata": {},
          "output_type": "execute_result"
        },
        {
          "data": {
            "image/png": "[encoded data removed]",
            "text/plain": [
              "<Figure size 1080x864 with 1 Axes>"
            ]
          },
          "metadata": {
            "needs_background": "light"
          },
          "output_type": "display_data"
        }
      ],
      "source": [
        "fig = plt.figure(figsize=(15,12))\n",
        "ax1 = fig.add_subplot(211)\n",
        "\n",
        "ax1.plot(r_all, marker=\"o\", markersize=10, label='rmse')\n",
        "\n",
        "for index in range(len(r_all)):\n",
        "  ax1.text(r_all[0][index],r_all[0][index],r_all[0][index],size=12)\n",
        "\n",
        "ax1.set_title(\"Rmse\", fontsize=18)"
      ]
    },
    {
      "cell_type": "markdown",
      "metadata": {
        "id": "-wXdsH9EhEk8"
      },
      "source": [
        "### train via autogluon"
      ]
    },
    {
      "cell_type": "code",
      "execution_count": null,
      "metadata": {
        "id": "bm0EfqSehEk8"
      },
      "outputs": [],
      "source": [
        "# !pip install autogluon"
      ]
    },
    {
      "cell_type": "code",
      "execution_count": null,
      "metadata": {
        "id": "Kezsb4A6hEk8"
      },
      "outputs": [],
      "source": [
        "import autogluon\n",
        "from autogluon.tabular import TabularDataset, TabularPredictor"
      ]
    },
    {
      "cell_type": "code",
      "execution_count": null,
      "metadata": {
        "id": "iEtTwL3NhEk8"
      },
      "outputs": [],
      "source": [
        "train = pd.read_csv('train_new.csv')\n",
        "test = pd.read_csv('test_new.csv')\n",
        "train.drop(\"ID\", axis = 1, inplace = True)\n",
        "test.drop(\"ID\", axis = 1, inplace = True)"
      ]
    },
    {
      "cell_type": "code",
      "execution_count": null,
      "metadata": {
        "id": "DTY1xoYbhEk9",
        "scrolled": true,
        "outputId": "67b7f565-3aaf-4b03-9707-eab25e7fbe33"
      },
      "outputs": [
        {
          "name": "stderr",
          "output_type": "stream",
          "text": [
            "No path specified. Models will be saved in: \"AutogluonModels/ag-20220531_045540\\\"\n",
            "Beginning AutoGluon training ...\n",
            "AutoGluon will save models to \"AutogluonModels/ag-20220531_045540\\\"\n",
            "AutoGluon Version:  0.4.1\n",
            "Python Version:     3.9.7\n",
            "Operating System:   Windows\n",
            "Train Data Rows:    2051\n",
            "Train Data Columns: 79\n",
            "Label Column: SalePrice\n",
            "Preprocessing data ...\n",
            "AutoGluon infers your prediction problem is: 'regression' (because dtype of label-column == float and many unique label-values observed).\n",
            "\tLabel info (max, min, mean, stddev): (849018.0, 32414.0, 216086.31058, 87545.40915)\n",
            "\tIf 'regression' is not the correct problem_type, please manually specify the problem_type parameter during predictor init (You may specify problem_type as one of: ['binary', 'multiclass', 'regression'])\n",
            "Using Feature Generators to preprocess the data ...\n",
            "Fitting AutoMLPipelineFeatureGenerator...\n",
            "\tAvailable Memory:                    2256.91 MB\n",
            "\tTrain Data (Original)  Memory Usage: 5.69 MB (0.3% of available memory)\n",
            "\tInferring data type of each feature based on column values. Set feature_metadata_in to manually specify special dtypes of the features.\n",
            "\tStage 1 Generators:\n",
            "\t\tFitting AsTypeFeatureGenerator...\n",
            "\t\t\tNote: Converting 2 features to boolean dtype as they only contain 2 unique values.\n",
            "\tStage 2 Generators:\n",
            "\t\tFitting FillNaFeatureGenerator...\n",
            "\tStage 3 Generators:\n",
            "\t\tFitting IdentityFeatureGenerator...\n",
            "\t\tFitting CategoryFeatureGenerator...\n",
            "\t\t\tFitting CategoryMemoryMinimizeFeatureGenerator...\n",
            "\tStage 4 Generators:\n",
            "\t\tFitting DropUniqueFeatureGenerator...\n",
            "\tTypes of features in original data (raw dtype, special dtypes):\n",
            "\t\t('float', [])  :  6 | ['LotFrontage', 'MasVnrArea', 'GarageCars', 'GarageArea', 'LotSize', ...]\n",
            "\t\t('int', [])    : 30 | ['BsmtUnfinishedArea', 'LivingArea', 'HalfBaths', 'YearRemodelled', 'EnclosedPorchArea', ...]\n",
            "\t\t('object', []) : 43 | ['Paved Drive', 'BsmtExposure', 'ProximityToMainRoad2', 'KitchenQuality', 'SaleCondition', ...]\n",
            "\tTypes of features in processed data (raw dtype, special dtypes):\n",
            "\t\t('category', [])  : 41 | ['Paved Drive', 'BsmtExposure', 'ProximityToMainRoad2', 'KitchenQuality', 'SaleCondition', ...]\n",
            "\t\t('float', [])     :  6 | ['LotFrontage', 'MasVnrArea', 'GarageCars', 'GarageArea', 'LotSize', ...]\n",
            "\t\t('int', [])       : 30 | ['BsmtUnfinishedArea', 'LivingArea', 'HalfBaths', 'YearRemodelled', 'EnclosedPorchArea', ...]\n",
            "\t\t('int', ['bool']) :  2 | ['TypeOfRoadAccess', 'Central Air']\n",
            "\t0.7s = Fit runtime\n",
            "\t79 features in original data used to generate 79 features in processed data.\n",
            "\tTrain Data (Processed) Memory Usage: 0.7 MB (0.0% of available memory)\n",
            "Data preprocessing and feature engineering runtime = 0.75s ...\n",
            "AutoGluon will gauge predictive performance using evaluation metric: 'root_mean_squared_error'\n",
            "\tTo change this, specify the eval_metric parameter of Predictor()\n",
            "Automatically generating train/validation split with holdout_frac=0.2, Train Rows: 1640, Val Rows: 411\n",
            "Fitting 11 L1 models ...\n",
            "Fitting model: KNeighborsUnif ...\n",
            "Intel(R) Extension for Scikit-learn* enabled (https://github.com/intel/scikit-learn-intelex)\n",
            "Intel(R) Extension for Scikit-learn* enabled (https://github.com/intel/scikit-learn-intelex)\n",
            "\t-38572.6587\t = Validation score   (root_mean_squared_error)\n",
            "\t0.02s\t = Training   runtime\n",
            "\t0.01s\t = Validation runtime\n",
            "Fitting model: KNeighborsDist ...\n",
            "Intel(R) Extension for Scikit-learn* enabled (https://github.com/intel/scikit-learn-intelex)\n",
            "Intel(R) Extension for Scikit-learn* enabled (https://github.com/intel/scikit-learn-intelex)\n",
            "\t-38041.9816\t = Validation score   (root_mean_squared_error)\n",
            "\t0.01s\t = Training   runtime\n",
            "\t0.01s\t = Validation runtime\n",
            "Fitting model: LightGBMXT ...\n",
            "\t-20465.1735\t = Validation score   (root_mean_squared_error)\n",
            "\t2.72s\t = Training   runtime\n",
            "\t0.08s\t = Validation runtime\n",
            "Fitting model: LightGBM ...\n",
            "\t-20909.4855\t = Validation score   (root_mean_squared_error)\n",
            "\t2.57s\t = Training   runtime\n",
            "\t0.07s\t = Validation runtime\n",
            "Fitting model: RandomForestMSE ...\n",
            "\t-23704.0367\t = Validation score   (root_mean_squared_error)\n",
            "\t6.58s\t = Training   runtime\n",
            "\t0.18s\t = Validation runtime\n",
            "Fitting model: CatBoost ...\n",
            "\t-19136.8726\t = Validation score   (root_mean_squared_error)\n",
            "\t429.73s\t = Training   runtime\n",
            "\t0.1s\t = Validation runtime\n",
            "Fitting model: ExtraTreesMSE ...\n",
            "\t-22808.8978\t = Validation score   (root_mean_squared_error)\n",
            "\t2.42s\t = Training   runtime\n",
            "\t0.13s\t = Validation runtime\n",
            "Fitting model: NeuralNetFastAI ...\n",
            "\t-20270.1583\t = Validation score   (root_mean_squared_error)\n",
            "\t5.71s\t = Training   runtime\n",
            "\t0.09s\t = Validation runtime\n",
            "Fitting model: XGBoost ...\n",
            "\t-20252.6586\t = Validation score   (root_mean_squared_error)\n",
            "\t7.54s\t = Training   runtime\n",
            "\t0.02s\t = Validation runtime\n",
            "Fitting model: NeuralNetTorch ...\n",
            "\t-22144.0456\t = Validation score   (root_mean_squared_error)\n",
            "\t13.09s\t = Training   runtime\n",
            "\t0.06s\t = Validation runtime\n",
            "Fitting model: LightGBMLarge ...\n",
            "\t-23415.7729\t = Validation score   (root_mean_squared_error)\n",
            "\t8.07s\t = Training   runtime\n",
            "\t0.11s\t = Validation runtime\n",
            "Fitting model: WeightedEnsemble_L2 ...\n",
            "\t-17970.5931\t = Validation score   (root_mean_squared_error)\n",
            "\t0.64s\t = Training   runtime\n",
            "\t0.0s\t = Validation runtime\n",
            "AutoGluon training complete, total runtime = 483.11s ... Best model: \"WeightedEnsemble_L2\"\n",
            "TabularPredictor saved. To load, use: predictor = TabularPredictor.load(\"AutogluonModels/ag-20220531_045540\\\")\n"
          ]
        }
      ],
      "source": [
        "train_data = TabularDataset(train)\n",
        "train_data['LotSize'] = np.log(train_data['LotSize'])\n",
        "label = 'SalePrice'\n",
        "predictor = TabularPredictor(label = label).fit(train_data)"
      ]
    },
    {
      "cell_type": "code",
      "execution_count": null,
      "metadata": {
        "id": "5F7p71jrhEk9",
        "outputId": "5e8b3b0d-cb98-47a8-c0ff-fa4b3ba2bbb2"
      },
      "outputs": [
        {
          "name": "stderr",
          "output_type": "stream",
          "text": [
            "WARNING: Int features without null values at train time contain null values at inference time! Imputing nulls to 0. To avoid this, pass the features as floats during fit!\n",
            "WARNING: Int features with nulls: ['BsmtUnfinishedArea', 'BsmtFullBaths', 'BsmtFinish2Area', 'TotalBsmtArea', 'BsmtHalfBaths', 'BsmtFinish1Area']\n"
          ]
        },
        {
          "data": {
            "text/html": [
              "<div>\n",
              "<style scoped>\n",
              "    .dataframe tbody tr th:only-of-type {\n",
              "        vertical-align: middle;\n",
              "    }\n",
              "\n",
              "    .dataframe tbody tr th {\n",
              "        vertical-align: top;\n",
              "    }\n",
              "\n",
              "    .dataframe thead th {\n",
              "        text-align: right;\n",
              "    }\n",
              "</style>\n",
              "<table border=\"1\" class=\"dataframe\">\n",
              "  <thead>\n",
              "    <tr style=\"text-align: right;\">\n",
              "      <th></th>\n",
              "      <th>ID</th>\n",
              "      <th>SalePrice</th>\n",
              "    </tr>\n",
              "  </thead>\n",
              "  <tbody>\n",
              "    <tr>\n",
              "      <th>0</th>\n",
              "      <td>2051</td>\n",
              "      <td>204105.718750</td>\n",
              "    </tr>\n",
              "    <tr>\n",
              "      <th>1</th>\n",
              "      <td>2052</td>\n",
              "      <td>360332.156250</td>\n",
              "    </tr>\n",
              "    <tr>\n",
              "      <th>2</th>\n",
              "      <td>2053</td>\n",
              "      <td>159092.156250</td>\n",
              "    </tr>\n",
              "    <tr>\n",
              "      <th>3</th>\n",
              "      <td>2054</td>\n",
              "      <td>199086.796875</td>\n",
              "    </tr>\n",
              "    <tr>\n",
              "      <th>4</th>\n",
              "      <td>2055</td>\n",
              "      <td>264775.312500</td>\n",
              "    </tr>\n",
              "    <tr>\n",
              "      <th>...</th>\n",
              "      <td>...</td>\n",
              "      <td>...</td>\n",
              "    </tr>\n",
              "    <tr>\n",
              "      <th>874</th>\n",
              "      <td>2925</td>\n",
              "      <td>359629.562500</td>\n",
              "    </tr>\n",
              "    <tr>\n",
              "      <th>875</th>\n",
              "      <td>2926</td>\n",
              "      <td>234641.062500</td>\n",
              "    </tr>\n",
              "    <tr>\n",
              "      <th>876</th>\n",
              "      <td>2927</td>\n",
              "      <td>213473.875000</td>\n",
              "    </tr>\n",
              "    <tr>\n",
              "      <th>877</th>\n",
              "      <td>2928</td>\n",
              "      <td>152105.328125</td>\n",
              "    </tr>\n",
              "    <tr>\n",
              "      <th>878</th>\n",
              "      <td>2929</td>\n",
              "      <td>153993.375000</td>\n",
              "    </tr>\n",
              "  </tbody>\n",
              "</table>\n",
              "<p>879 rows × 2 columns</p>\n",
              "</div>"
            ],
            "text/plain": [
              "       ID      SalePrice\n",
              "0    2051  204105.718750\n",
              "1    2052  360332.156250\n",
              "2    2053  159092.156250\n",
              "3    2054  199086.796875\n",
              "4    2055  264775.312500\n",
              "..    ...            ...\n",
              "874  2925  359629.562500\n",
              "875  2926  234641.062500\n",
              "876  2927  213473.875000\n",
              "877  2928  152105.328125\n",
              "878  2929  153993.375000\n",
              "\n",
              "[879 rows x 2 columns]"
            ]
          },
          "execution_count": 24,
          "metadata": {},
          "output_type": "execute_result"
        }
      ],
      "source": [
        "test_data = TabularDataset(test)\n",
        "test_data['LotSize'] = np.log(test_data['LotSize'])\n",
        "\n",
        "pred_au = predictor.predict(test_data)\n",
        "sub_au = pd.concat([pd.DataFrame(test_ID),pd.DataFrame(pred_au)],axis=1)\n",
        "sub_au.columns = ['ID', 'SalePrice']\n",
        "# sub = pd.DataFrame(test_ID)\n",
        "# sub['SalePrice'] = preds.values\n",
        "sub_au"
      ]
    },
    {
      "cell_type": "markdown",
      "metadata": {
        "id": "3DUQfWPhhEk9"
      },
      "source": [
        "### Stacking"
      ]
    },
    {
      "cell_type": "code",
      "execution_count": null,
      "metadata": {
        "id": "WVNC7f7LQ_JF"
      },
      "outputs": [],
      "source": [
        "from sklearn.linear_model import ElasticNet, Lasso,  BayesianRidge, LassoLarsIC\n",
        "from sklearn.ensemble import RandomForestRegressor,  GradientBoostingRegressor\n",
        "from sklearn.kernel_ridge import KernelRidge\n",
        "from sklearn.pipeline import make_pipeline\n",
        "from sklearn.preprocessing import RobustScaler\n",
        "from sklearn.base import BaseEstimator, TransformerMixin, RegressorMixin, clone\n",
        "from sklearn.model_selection import KFold, cross_val_score, train_test_split\n",
        "from sklearn.metrics import mean_squared_error\n",
        "import xgboost as xgb\n",
        "import lightgbm as lgb\n",
        "n_folds = 5\n",
        "\n",
        "def rmsle_cv(model):\n",
        "    kf = KFold(n_folds, shuffle=True, random_state=42).get_n_splits(train.values)\n",
        "    rmse= np.sqrt(-cross_val_score(model, train.values, y_train, scoring=\"neg_mean_squared_error\", cv = kf))\n",
        "    return(rmse)"
      ]
    },
    {
      "cell_type": "code",
      "execution_count": null,
      "metadata": {
        "id": "suk7c3NrRC7D"
      },
      "outputs": [],
      "source": [
        "lasso = make_pipeline(RobustScaler(), Lasso(alpha =0.0001, max_iter=15000,random_state=1))"
      ]
    },
    {
      "cell_type": "code",
      "execution_count": null,
      "metadata": {
        "id": "wvoZox27RF4v"
      },
      "outputs": [],
      "source": [
        "ENet = make_pipeline(RobustScaler(), ElasticNet(alpha=0.0005, l1_ratio=.9,max_iter=15000, random_state=3))"
      ]
    },
    {
      "cell_type": "code",
      "execution_count": null,
      "metadata": {
        "id": "-KdqOhF5RIDc"
      },
      "outputs": [],
      "source": [
        "KRR = KernelRidge(alpha=0.6, kernel='polynomial', degree=2, coef0=2.5)"
      ]
    },
    {
      "cell_type": "code",
      "execution_count": null,
      "metadata": {
        "id": "lx1n0YxhRKwu"
      },
      "outputs": [],
      "source": [
        "GBoost = GradientBoostingRegressor(n_estimators=3000, learning_rate=0.05,\n",
        "                                   max_depth=4, max_features='sqrt',\n",
        "                                   min_samples_leaf=15, min_samples_split=10, \n",
        "                                   loss='huber', random_state =5)"
      ]
    },
    {
      "cell_type": "code",
      "execution_count": null,
      "metadata": {
        "id": "OBR2lnwJRLZv"
      },
      "outputs": [],
      "source": [
        "model_xgb = xgb.XGBRegressor(colsample_bytree=0.4603, gamma=0.0468, \n",
        "                             learning_rate=0.05, max_depth=3, \n",
        "                             min_child_weight=1.7817, n_estimators=2200,\n",
        "                             reg_alpha=0.4640, reg_lambda=0.8571,\n",
        "                             subsample=0.5213, silent=1,\n",
        "                             random_state =7, nthread = -1)"
      ]
    },
    {
      "cell_type": "code",
      "execution_count": null,
      "metadata": {
        "id": "qDL2AwLuRNJt"
      },
      "outputs": [],
      "source": [
        "model_lgb = lgb.LGBMRegressor(objective='regression',num_leaves=5,\n",
        "                              learning_rate=0.05, n_estimators=720,\n",
        "                              max_bin = 55, bagging_fraction = 0.8,\n",
        "                              bagging_freq = 5, feature_fraction = 0.2319,\n",
        "                              feature_fraction_seed=9, bagging_seed=9,\n",
        "                              min_data_in_leaf =6, min_sum_hessian_in_leaf = 11)"
      ]
    },
    {
      "cell_type": "code",
      "execution_count": null,
      "metadata": {
        "colab": {
          "base_uri": "https://localhost:8080/"
        },
        "id": "upkO1OT-RO6K",
        "outputId": "93cfd7c2-d06c-4d3b-dcaf-1156bbe3120e"
      },
      "outputs": [
        {
          "name": "stdout",
          "output_type": "stream",
          "text": [
            "\n",
            "Lasso score: 0.3517 (0.0927)\n",
            "\n"
          ]
        }
      ],
      "source": [
        "score = rmsle_cv(lasso)\n",
        "print(\"\\nLasso score: {:.4f} ({:.4f})\\n\".format(score.mean(), score.std()))"
      ]
    },
    {
      "cell_type": "code",
      "execution_count": null,
      "metadata": {
        "colab": {
          "base_uri": "https://localhost:8080/"
        },
        "id": "JNSZz2VuRRLb",
        "outputId": "137efb8a-57b0-4ef3-c409-0abe23bff89f"
      },
      "outputs": [
        {
          "name": "stdout",
          "output_type": "stream",
          "text": [
            "ElasticNet score: 0.3241 (0.1039)\n",
            "\n"
          ]
        }
      ],
      "source": [
        "score = rmsle_cv(ENet)\n",
        "print(\"ElasticNet score: {:.4f} ({:.4f})\\n\".format(score.mean(), score.std()))"
      ]
    },
    {
      "cell_type": "code",
      "execution_count": null,
      "metadata": {
        "colab": {
          "base_uri": "https://localhost:8080/"
        },
        "id": "lo0kldn0RS2y",
        "outputId": "bb2b40b5-f5d9-4173-f332-1ae93474734a"
      },
      "outputs": [
        {
          "name": "stdout",
          "output_type": "stream",
          "text": [
            "Kernel Ridge score: 0.3131 (0.1076)\n",
            "\n"
          ]
        }
      ],
      "source": [
        "score = rmsle_cv(KRR)\n",
        "print(\"Kernel Ridge score: {:.4f} ({:.4f})\\n\".format(score.mean(), score.std()))"
      ]
    },
    {
      "cell_type": "code",
      "execution_count": null,
      "metadata": {
        "colab": {
          "base_uri": "https://localhost:8080/"
        },
        "id": "6Z7B82usRURL",
        "outputId": "daf086f1-80f6-488b-80fd-5454a31e8d97"
      },
      "outputs": [
        {
          "name": "stdout",
          "output_type": "stream",
          "text": [
            "Gradient Boosting score: 0.3258 (0.1005)\n",
            "\n"
          ]
        }
      ],
      "source": [
        "score = rmsle_cv(GBoost)\n",
        "print(\"Gradient Boosting score: {:.4f} ({:.4f})\\n\".format(score.mean(), score.std()))"
      ]
    },
    {
      "cell_type": "code",
      "execution_count": null,
      "metadata": {
        "colab": {
          "base_uri": "https://localhost:8080/"
        },
        "id": "PQdzhOXWRV6a",
        "outputId": "df8a0dac-341c-470f-a3bb-43faff298dbc"
      },
      "outputs": [
        {
          "name": "stdout",
          "output_type": "stream",
          "text": [
            "Xgboost score: 0.3305 (0.0955)\n",
            "\n"
          ]
        }
      ],
      "source": [
        "score = rmsle_cv(model_xgb)\n",
        "print(\"Xgboost score: {:.4f} ({:.4f})\\n\".format(score.mean(), score.std()))"
      ]
    },
    {
      "cell_type": "code",
      "execution_count": null,
      "metadata": {
        "colab": {
          "base_uri": "https://localhost:8080/"
        },
        "id": "mtEXkEMARXcm",
        "outputId": "f3a95608-619e-4b3f-bb42-f2eeb83d2e88"
      },
      "outputs": [
        {
          "name": "stdout",
          "output_type": "stream",
          "text": [
            "LGBM score: 0.3206 (0.1019)\n",
            "\n"
          ]
        }
      ],
      "source": [
        "score = rmsle_cv(model_lgb)\n",
        "print(\"LGBM score: {:.4f} ({:.4f})\\n\" .format(score.mean(), score.std()))"
      ]
    },
    {
      "cell_type": "code",
      "execution_count": null,
      "metadata": {
        "id": "KXgB36paRZAK"
      },
      "outputs": [],
      "source": [
        "class StackingAveragedModels(BaseEstimator, RegressorMixin, TransformerMixin):\n",
        "    def __init__(self, base_models, meta_model, n_folds=5):\n",
        "        self.base_models = base_models\n",
        "        self.meta_model = meta_model\n",
        "        self.n_folds = n_folds\n",
        "   \n",
        "    def fit(self, X, y):\n",
        "        self.base_models_ = [list() for x in self.base_models]\n",
        "        self.meta_model_ = clone(self.meta_model)\n",
        "        kfold = KFold(n_splits=self.n_folds, shuffle=True, random_state=156)\n",
        "        \n",
        "        out_of_fold_predictions = np.zeros((X.shape[0], len(self.base_models)))\n",
        "        for i, model in enumerate(self.base_models):\n",
        "            for train_index, holdout_index in kfold.split(X, y):\n",
        "                instance = clone(model)\n",
        "                self.base_models_[i].append(instance)\n",
        "                instance.fit(X[train_index], y[train_index])\n",
        "                y_pred = instance.predict(X[holdout_index])\n",
        "                out_of_fold_predictions[holdout_index, i] = y_pred\n",
        "\n",
        "        self.meta_model_.fit(out_of_fold_predictions, y)\n",
        "        return self\n",
        "   \n",
        "    def predict(self, X):\n",
        "        meta_features = np.column_stack([\n",
        "            np.column_stack([model.predict(X) for model in base_models]).mean(axis=1)\n",
        "            for base_models in self.base_models_ ])\n",
        "        return self.meta_model_.predict(meta_features)"
      ]
    },
    {
      "cell_type": "code",
      "execution_count": null,
      "metadata": {
        "colab": {
          "base_uri": "https://localhost:8080/"
        },
        "id": "8OspgKRDSNHi",
        "outputId": "fad7f7e8-f86a-4dea-b39f-c70193af8e3e"
      },
      "outputs": [
        {
          "name": "stdout",
          "output_type": "stream",
          "text": [
            "Stacking Averaged models score: nan (nan)\n"
          ]
        },
        {
          "name": "stderr",
          "output_type": "stream",
          "text": [
            "/usr/local/lib/python3.7/dist-packages/sklearn/model_selection/_validation.py:372: FitFailedWarning: \n",
            "4 fits failed out of a total of 5.\n",
            "The score on these train-test partitions for these parameters will be set to nan.\n",
            "If these failures are not expected, you can try to debug them by setting error_score='raise'.\n",
            "\n",
            "Below are more details about the failures:\n",
            "--------------------------------------------------------------------------------\n",
            "1 fits failed with the following error:\n",
            "Traceback (most recent call last):\n",
            "  File \"/usr/local/lib/python3.7/dist-packages/sklearn/model_selection/_validation.py\", line 680, in _fit_and_score\n",
            "    estimator.fit(X_train, y_train, **fit_params)\n",
            "  File \"<ipython-input-197-e58ff6dc0b70>\", line 17, in fit\n",
            "    instance.fit(X[train_index], y[train_index])\n",
            "  File \"/usr/local/lib/python3.7/dist-packages/pandas/core/series.py\", line 966, in __getitem__\n",
            "    return self._get_with(key)\n",
            "  File \"/usr/local/lib/python3.7/dist-packages/pandas/core/series.py\", line 1001, in _get_with\n",
            "    return self.loc[key]\n",
            "  File \"/usr/local/lib/python3.7/dist-packages/pandas/core/indexing.py\", line 931, in __getitem__\n",
            "    return self._getitem_axis(maybe_callable, axis=axis)\n",
            "  File \"/usr/local/lib/python3.7/dist-packages/pandas/core/indexing.py\", line 1153, in _getitem_axis\n",
            "    return self._getitem_iterable(key, axis=axis)\n",
            "  File \"/usr/local/lib/python3.7/dist-packages/pandas/core/indexing.py\", line 1093, in _getitem_iterable\n",
            "    keyarr, indexer = self._get_listlike_indexer(key, axis)\n",
            "  File \"/usr/local/lib/python3.7/dist-packages/pandas/core/indexing.py\", line 1314, in _get_listlike_indexer\n",
            "    self._validate_read_indexer(keyarr, indexer, axis)\n",
            "  File \"/usr/local/lib/python3.7/dist-packages/pandas/core/indexing.py\", line 1377, in _validate_read_indexer\n",
            "    raise KeyError(f\"{not_found} not in index\")\n",
            "KeyError: '[0, 1, 2, 3, 4, 5, 6, 7, 8, 9, 10, 11, 12, 13, 14, 15, 17, 18, 19, 21, 22, 23, 24, 25, 26, 27, 29, 30, 31, 32, 33, 34, 35, 36, 40, 42, 43, 46, 47, 48, 49, 51, 52, 53, 54, 55, 56, 57, 58, 59, 60, 61, 62, 63, 64, 65, 66, 67, 68, 70, 72, 73, 74, 75, 76, 77, 78, 79, 80, 82, 83, 84, 86, 87, 88, 89, 90, 91, 92, 94, 95, 98, 99, 100, 101, 103, 104, 106, 107, 110, 112, 113, 114, 115, 116, 117, 118, 119, 120, 122, 123, 124, 125, 126, 127, 128, 129, 130, 131, 133, 134, 135, 136, 137, 138, 139, 140, 141, 142, 143, 144, 147, 148, 150, 151, 152, 153, 154, 155, 156, 157, 158, 159, 160, 161, 162, 163, 164, 165, 167, 168, 169, 170, 171, 172, 173, 176, 177, 178, 179, 180, 181, 182, 183, 184, 185, 186, 187, 188, 189, 190, 191, 192, 193, 195, 197, 199, 200, 201, 202, 203, 205, 206, 209, 210, 211, 212, 213, 215, 216, 217, 219, 220, 222, 223, 224, 225, 227, 228, 229, 230, 231, 234, 236, 237, 240, 241, 244, 245, 246, 247, 248, 249, 250, 251, 252, 254, 255, 256, 257, 258, 259, 260, 261, 262, 263, 264, 265, 266, 267, 268, 270, 271, 272, 273, 274, 275, 276, 277, 278, 279, 280, 281, 282, 283, 285, 288, 289, 291, 292, 293, 294, 295, 296, 297, 298, 299, 300, 302, 303, 304, 305, 306, 307, 308, 311, 313, 314, 315, 316, 317, 318, 319, 320, 322, 324, 327, 329, 330, 331, 332, 333, 334, 335, 336, 337, 338, 339, 340, 341, 342, 343, 344, 346, 347, 349, 350, 351, 352, 353, 354, 355, 358, 359, 360, 361, 362, 363, 365, 366, 368, 369, 370, 371, 373, 374, 376, 377, 378, 379, 381, 383, 385, 386, 387, 388, 390, 392, 393, 394, 395, 396, 397, 398, 399, 400, 402, 403, 404, 405, 406, 408, 409] not in index'\n",
            "\n",
            "--------------------------------------------------------------------------------\n",
            "1 fits failed with the following error:\n",
            "Traceback (most recent call last):\n",
            "  File \"/usr/local/lib/python3.7/dist-packages/sklearn/model_selection/_validation.py\", line 680, in _fit_and_score\n",
            "    estimator.fit(X_train, y_train, **fit_params)\n",
            "  File \"<ipython-input-197-e58ff6dc0b70>\", line 17, in fit\n",
            "    instance.fit(X[train_index], y[train_index])\n",
            "  File \"/usr/local/lib/python3.7/dist-packages/pandas/core/series.py\", line 966, in __getitem__\n",
            "    return self._get_with(key)\n",
            "  File \"/usr/local/lib/python3.7/dist-packages/pandas/core/series.py\", line 1001, in _get_with\n",
            "    return self.loc[key]\n",
            "  File \"/usr/local/lib/python3.7/dist-packages/pandas/core/indexing.py\", line 931, in __getitem__\n",
            "    return self._getitem_axis(maybe_callable, axis=axis)\n",
            "  File \"/usr/local/lib/python3.7/dist-packages/pandas/core/indexing.py\", line 1153, in _getitem_axis\n",
            "    return self._getitem_iterable(key, axis=axis)\n",
            "  File \"/usr/local/lib/python3.7/dist-packages/pandas/core/indexing.py\", line 1093, in _getitem_iterable\n",
            "    keyarr, indexer = self._get_listlike_indexer(key, axis)\n",
            "  File \"/usr/local/lib/python3.7/dist-packages/pandas/core/indexing.py\", line 1314, in _get_listlike_indexer\n",
            "    self._validate_read_indexer(keyarr, indexer, axis)\n",
            "  File \"/usr/local/lib/python3.7/dist-packages/pandas/core/indexing.py\", line 1377, in _validate_read_indexer\n",
            "    raise KeyError(f\"{not_found} not in index\")\n",
            "KeyError: '[411, 412, 413, 415, 416, 417, 419, 420, 421, 422, 423, 424, 425, 426, 427, 428, 429, 430, 431, 432, 433, 434, 436, 437, 438, 439, 440, 441, 444, 445, 446, 447, 449, 450, 451, 453, 454, 455, 458, 459, 460, 461, 462, 463, 464, 466, 467, 468, 469, 471, 472, 473, 474, 475, 477, 478, 479, 480, 482, 483, 485, 488, 490, 491, 492, 493, 494, 496, 498, 499, 500, 501, 502, 503, 504, 505, 506, 507, 508, 511, 512, 513, 514, 515, 516, 520, 523, 525, 526, 527, 528, 529, 530, 531, 532, 533, 534, 535, 536, 537, 539, 541, 542, 543, 544, 545, 546, 547, 548, 549, 550, 551, 552, 553, 554, 555, 556, 557, 558, 560, 561, 562, 563, 564, 565, 566, 567, 569, 570, 571, 572, 574, 575, 576, 578, 580, 582, 584, 585, 586, 587, 589, 591, 592, 593, 595, 596, 597, 598, 599, 603, 604, 605, 606, 607, 608, 609, 610, 611, 612, 613, 614, 615, 616, 617, 618, 620, 621, 623, 624, 625, 626, 627, 631, 633, 634, 635, 636, 637, 638, 639, 640, 641, 642, 643, 646, 647, 648, 650, 651, 652, 653, 654, 655, 659, 660, 661, 662, 663, 664, 665, 666, 667, 669, 670, 671, 672, 675, 677, 678, 679, 680, 681, 682, 683, 684, 685, 686, 687, 688, 689, 690, 691, 692, 693, 694, 695, 696, 697, 698, 699, 700, 701, 702, 703, 704, 705, 708, 709, 710, 711, 713, 715, 716, 718, 719, 720, 721, 723, 724, 725, 726, 727, 728, 729, 730, 731, 732, 734, 735, 737, 742, 743, 744, 745, 746, 747, 748, 749, 750, 752, 753, 755, 756, 758, 759, 760, 761, 763, 765, 767, 769, 770, 771, 772, 774, 775, 776, 777, 778, 779, 780, 781, 782, 783, 784, 786, 787, 788, 789, 790, 792, 793, 794, 796, 799, 800, 802, 803, 804, 806, 807, 808, 809, 810, 811, 812, 813, 814, 815, 817, 819, 820] not in index'\n",
            "\n",
            "--------------------------------------------------------------------------------\n",
            "1 fits failed with the following error:\n",
            "Traceback (most recent call last):\n",
            "  File \"/usr/local/lib/python3.7/dist-packages/sklearn/model_selection/_validation.py\", line 680, in _fit_and_score\n",
            "    estimator.fit(X_train, y_train, **fit_params)\n",
            "  File \"<ipython-input-197-e58ff6dc0b70>\", line 17, in fit\n",
            "    instance.fit(X[train_index], y[train_index])\n",
            "  File \"/usr/local/lib/python3.7/dist-packages/pandas/core/series.py\", line 966, in __getitem__\n",
            "    return self._get_with(key)\n",
            "  File \"/usr/local/lib/python3.7/dist-packages/pandas/core/series.py\", line 1001, in _get_with\n",
            "    return self.loc[key]\n",
            "  File \"/usr/local/lib/python3.7/dist-packages/pandas/core/indexing.py\", line 931, in __getitem__\n",
            "    return self._getitem_axis(maybe_callable, axis=axis)\n",
            "  File \"/usr/local/lib/python3.7/dist-packages/pandas/core/indexing.py\", line 1153, in _getitem_axis\n",
            "    return self._getitem_iterable(key, axis=axis)\n",
            "  File \"/usr/local/lib/python3.7/dist-packages/pandas/core/indexing.py\", line 1093, in _getitem_iterable\n",
            "    keyarr, indexer = self._get_listlike_indexer(key, axis)\n",
            "  File \"/usr/local/lib/python3.7/dist-packages/pandas/core/indexing.py\", line 1314, in _get_listlike_indexer\n",
            "    self._validate_read_indexer(keyarr, indexer, axis)\n",
            "  File \"/usr/local/lib/python3.7/dist-packages/pandas/core/indexing.py\", line 1377, in _validate_read_indexer\n",
            "    raise KeyError(f\"{not_found} not in index\")\n",
            "KeyError: '[821, 823, 824, 825, 826, 827, 828, 829, 831, 832, 833, 837, 840, 841, 842, 843, 844, 849, 850, 851, 852, 853, 854, 856, 857, 858, 859, 861, 863, 865, 869, 870, 871, 872, 873, 874, 875, 876, 877, 878, 879, 880, 881, 883, 884, 885, 886, 887, 888, 889, 890, 892, 893, 895, 897, 898, 899, 901, 902, 904, 905, 907, 908, 909, 910, 911, 913, 916, 917, 918, 920, 922, 923, 924, 925, 926, 929, 930, 931, 932, 933, 934, 935, 936, 937, 938, 939, 940, 941, 942, 945, 946, 947, 949, 950, 951, 952, 954, 955, 956, 957, 958, 959, 960, 962, 963, 964, 965, 966, 968, 969, 970, 971, 972, 973, 976, 978, 979, 980, 981, 982, 983, 984, 985, 987, 988, 990, 991, 993, 994, 995, 996, 997, 999, 1000, 1002, 1003, 1004, 1005, 1006, 1008, 1009, 1010, 1011, 1012, 1014, 1016, 1018, 1019, 1020, 1021, 1022, 1023, 1024, 1025, 1027, 1028, 1029, 1030, 1031, 1032, 1034, 1035, 1036, 1037, 1038, 1040, 1041, 1043, 1044, 1045, 1046, 1047, 1049, 1050, 1051, 1052, 1053, 1054, 1055, 1056, 1057, 1058, 1059, 1061, 1062, 1063, 1064, 1065, 1067, 1068, 1069, 1070, 1071, 1072, 1073, 1074, 1076, 1077, 1079, 1080, 1083, 1084, 1085, 1086, 1087, 1088, 1090, 1091, 1092, 1093, 1094, 1096, 1097, 1098, 1099, 1100, 1101, 1102, 1103, 1104, 1105, 1106, 1107, 1108, 1109, 1110, 1111, 1112, 1114, 1115, 1116, 1117, 1118, 1119, 1120, 1122, 1124, 1126, 1127, 1128, 1129, 1130, 1131, 1132, 1134, 1135, 1137, 1138, 1139, 1141, 1143, 1145, 1147, 1148, 1149, 1150, 1151, 1152, 1153, 1154, 1155, 1158, 1159, 1161, 1163, 1164, 1165, 1166, 1167, 1168, 1169, 1170, 1171, 1172, 1173, 1174, 1175, 1178, 1179, 1180, 1181, 1182, 1183, 1185, 1187, 1189, 1191, 1192, 1194, 1195, 1196, 1198, 1199, 1200, 1201, 1202, 1203, 1205, 1206, 1209, 1210, 1213, 1214, 1215, 1216, 1217, 1218, 1219, 1221, 1222, 1223, 1224, 1225, 1226, 1227, 1228, 1229, 1230] not in index'\n",
            "\n",
            "--------------------------------------------------------------------------------\n",
            "1 fits failed with the following error:\n",
            "Traceback (most recent call last):\n",
            "  File \"/usr/local/lib/python3.7/dist-packages/sklearn/model_selection/_validation.py\", line 680, in _fit_and_score\n",
            "    estimator.fit(X_train, y_train, **fit_params)\n",
            "  File \"<ipython-input-197-e58ff6dc0b70>\", line 17, in fit\n",
            "    instance.fit(X[train_index], y[train_index])\n",
            "  File \"/usr/local/lib/python3.7/dist-packages/pandas/core/series.py\", line 966, in __getitem__\n",
            "    return self._get_with(key)\n",
            "  File \"/usr/local/lib/python3.7/dist-packages/pandas/core/series.py\", line 1001, in _get_with\n",
            "    return self.loc[key]\n",
            "  File \"/usr/local/lib/python3.7/dist-packages/pandas/core/indexing.py\", line 931, in __getitem__\n",
            "    return self._getitem_axis(maybe_callable, axis=axis)\n",
            "  File \"/usr/local/lib/python3.7/dist-packages/pandas/core/indexing.py\", line 1153, in _getitem_axis\n",
            "    return self._getitem_iterable(key, axis=axis)\n",
            "  File \"/usr/local/lib/python3.7/dist-packages/pandas/core/indexing.py\", line 1093, in _getitem_iterable\n",
            "    keyarr, indexer = self._get_listlike_indexer(key, axis)\n",
            "  File \"/usr/local/lib/python3.7/dist-packages/pandas/core/indexing.py\", line 1314, in _get_listlike_indexer\n",
            "    self._validate_read_indexer(keyarr, indexer, axis)\n",
            "  File \"/usr/local/lib/python3.7/dist-packages/pandas/core/indexing.py\", line 1377, in _validate_read_indexer\n",
            "    raise KeyError(f\"{not_found} not in index\")\n",
            "KeyError: '[1231, 1232, 1235, 1237, 1238, 1239, 1240, 1241, 1242, 1244, 1245, 1246, 1247, 1248, 1249, 1250, 1251, 1253, 1254, 1255, 1256, 1257, 1258, 1259, 1260, 1261, 1262, 1264, 1265, 1266, 1267, 1268, 1269, 1270, 1271, 1272, 1273, 1275, 1276, 1277, 1278, 1280, 1281, 1282, 1283, 1284, 1286, 1287, 1288, 1289, 1290, 1292, 1293, 1294, 1296, 1297, 1298, 1299, 1300, 1301, 1302, 1304, 1305, 1306, 1308, 1309, 1310, 1311, 1312, 1313, 1314, 1315, 1316, 1317, 1318, 1319, 1320, 1322, 1324, 1325, 1326, 1327, 1329, 1330, 1331, 1332, 1334, 1335, 1336, 1337, 1338, 1339, 1340, 1341, 1342, 1344, 1345, 1346, 1347, 1349, 1350, 1351, 1352, 1356, 1358, 1360, 1361, 1362, 1363, 1364, 1365, 1366, 1367, 1368, 1369, 1370, 1372, 1373, 1376, 1377, 1378, 1380, 1381, 1382, 1383, 1384, 1386, 1388, 1389, 1390, 1391, 1392, 1393, 1394, 1396, 1397, 1398, 1401, 1403, 1404, 1405, 1406, 1407, 1408, 1409, 1411, 1412, 1413, 1415, 1417, 1418, 1419, 1420, 1421, 1423, 1426, 1428, 1429, 1430, 1431, 1432, 1433, 1434, 1435, 1436, 1437, 1438, 1439, 1440, 1441, 1442, 1443, 1445, 1446, 1447, 1448, 1449, 1450, 1451, 1452, 1453, 1454, 1455, 1456, 1457, 1458, 1459, 1460, 1461, 1462, 1463, 1464, 1465, 1466, 1467, 1468, 1469, 1470, 1473, 1474, 1476, 1477, 1478, 1480, 1482, 1483, 1484, 1485, 1486, 1487, 1488, 1489, 1490, 1491, 1492, 1493, 1498, 1499, 1500, 1501, 1502, 1503, 1504, 1505, 1506, 1507, 1508, 1509, 1510, 1511, 1512, 1513, 1514, 1515, 1516, 1517, 1518, 1519, 1520, 1522, 1524, 1525, 1526, 1527, 1528, 1529, 1531, 1532, 1533, 1535, 1536, 1537, 1538, 1539, 1541, 1542, 1543, 1544, 1546, 1547, 1548, 1549, 1551, 1552, 1553, 1554, 1555, 1556, 1558, 1559, 1560, 1561, 1563, 1564, 1566, 1567, 1569, 1570, 1571, 1572, 1573, 1574, 1575, 1576, 1579, 1580, 1581, 1582, 1583, 1584, 1586, 1587, 1588, 1589, 1592, 1593, 1594, 1595, 1596, 1597, 1598, 1599, 1600, 1601, 1603, 1604, 1605, 1606, 1607, 1608, 1609, 1611, 1612, 1613, 1614, 1615, 1616, 1617, 1618, 1619, 1620, 1622, 1623, 1624, 1625, 1626, 1627, 1628, 1629, 1630, 1632, 1633, 1634, 1635, 1636, 1637, 1639, 1640] not in index'\n",
            "\n",
            "  warnings.warn(some_fits_failed_message, FitFailedWarning)\n"
          ]
        }
      ],
      "source": [
        "stacked_averaged_models = StackingAveragedModels(base_models = (ENet, GBoost, model_lgb),\n",
        "                                                 meta_model = lasso)\n",
        "\n",
        "score = rmsle_cv(stacked_averaged_models)\n",
        "print(\"Stacking Averaged models score: {:.4f} ({:.4f})\".format(score.mean(), score.std()))"
      ]
    },
    {
      "cell_type": "code",
      "execution_count": null,
      "metadata": {
        "id": "xmVbd51uSRfP"
      },
      "outputs": [],
      "source": [
        "def rmsle(y, y_pred):\n",
        "    return np.sqrt(mean_squared_error(y, y_pred))"
      ]
    },
    {
      "cell_type": "code",
      "execution_count": null,
      "metadata": {
        "colab": {
          "base_uri": "https://localhost:8080/"
        },
        "id": "Li5xdLxAST8N",
        "outputId": "5d4c7f17-6922-4e51-9869-d483c5786b74"
      },
      "outputs": [
        {
          "name": "stdout",
          "output_type": "stream",
          "text": [
            "0.23715389325381733\n"
          ]
        }
      ],
      "source": [
        "stacked_averaged_models.fit(X_train.values, y_train)\n",
        "stacked_train_pred = stacked_averaged_models.predict(X_train.values)\n",
        "stacked_pred = np.expm1(stacked_averaged_models.predict(X_test.values))\n",
        "print(rmsle(y_train, stacked_train_pred))"
      ]
    },
    {
      "cell_type": "code",
      "execution_count": null,
      "metadata": {
        "colab": {
          "base_uri": "https://localhost:8080/"
        },
        "id": "DZ4I5ADCSX5c",
        "outputId": "2f662298-56b5-4b14-9319-d69a2aa900ec"
      },
      "outputs": [
        {
          "name": "stdout",
          "output_type": "stream",
          "text": [
            "0.2947950193382127\n"
          ]
        }
      ],
      "source": [
        "model_xgb.fit(train, y_train)\n",
        "xgb_train_pred = model_xgb.predict(train)\n",
        "xgb_pred = np.expm1(model_xgb.predict(test))\n",
        "print(rmsle(y_train, xgb_train_pred))"
      ]
    },
    {
      "cell_type": "code",
      "execution_count": null,
      "metadata": {
        "colab": {
          "base_uri": "https://localhost:8080/"
        },
        "id": "zqo2YE0YSZSx",
        "outputId": "156f21ba-24e9-4762-829e-f526984ddad0"
      },
      "outputs": [
        {
          "name": "stdout",
          "output_type": "stream",
          "text": [
            "0.6191339411355774\n"
          ]
        }
      ],
      "source": [
        "model_lgb.fit(train, y_train)\n",
        "lgb_train_pred = model_lgb.predict(train)\n",
        "lgb_pred = np.expm1(model_lgb.predict(test.values))\n",
        "print(rmsle(y_train, lgb_train_pred))"
      ]
    },
    {
      "cell_type": "code",
      "execution_count": null,
      "metadata": {
        "colab": {
          "base_uri": "https://localhost:8080/",
          "height": 424
        },
        "id": "bBcQ5HHXSdl2",
        "outputId": "b37c7491-d013-4b16-a27f-96b67716bc72"
      },
      "outputs": [
        {
          "data": {
            "text/html": [
              "\n",
              "  <div id=\"df-c6f196cc-a2b7-4ee4-bd62-93cc00893a87\">\n",
              "    <div class=\"colab-df-container\">\n",
              "      <div>\n",
              "<style scoped>\n",
              "    .dataframe tbody tr th:only-of-type {\n",
              "        vertical-align: middle;\n",
              "    }\n",
              "\n",
              "    .dataframe tbody tr th {\n",
              "        vertical-align: top;\n",
              "    }\n",
              "\n",
              "    .dataframe thead th {\n",
              "        text-align: right;\n",
              "    }\n",
              "</style>\n",
              "<table border=\"1\" class=\"dataframe\">\n",
              "  <thead>\n",
              "    <tr style=\"text-align: right;\">\n",
              "      <th></th>\n",
              "      <th>ID</th>\n",
              "      <th>SalePrice</th>\n",
              "    </tr>\n",
              "  </thead>\n",
              "  <tbody>\n",
              "    <tr>\n",
              "      <th>0</th>\n",
              "      <td>2051</td>\n",
              "      <td>212608.536099</td>\n",
              "    </tr>\n",
              "    <tr>\n",
              "      <th>1</th>\n",
              "      <td>2052</td>\n",
              "      <td>263879.196047</td>\n",
              "    </tr>\n",
              "    <tr>\n",
              "      <th>2</th>\n",
              "      <td>2053</td>\n",
              "      <td>176704.971649</td>\n",
              "    </tr>\n",
              "    <tr>\n",
              "      <th>3</th>\n",
              "      <td>2054</td>\n",
              "      <td>189170.763708</td>\n",
              "    </tr>\n",
              "    <tr>\n",
              "      <th>4</th>\n",
              "      <td>2055</td>\n",
              "      <td>243863.331277</td>\n",
              "    </tr>\n",
              "    <tr>\n",
              "      <th>...</th>\n",
              "      <td>...</td>\n",
              "      <td>...</td>\n",
              "    </tr>\n",
              "    <tr>\n",
              "      <th>874</th>\n",
              "      <td>2925</td>\n",
              "      <td>284157.503528</td>\n",
              "    </tr>\n",
              "    <tr>\n",
              "      <th>875</th>\n",
              "      <td>2926</td>\n",
              "      <td>220529.067214</td>\n",
              "    </tr>\n",
              "    <tr>\n",
              "      <th>876</th>\n",
              "      <td>2927</td>\n",
              "      <td>186837.832417</td>\n",
              "    </tr>\n",
              "    <tr>\n",
              "      <th>877</th>\n",
              "      <td>2928</td>\n",
              "      <td>175274.655360</td>\n",
              "    </tr>\n",
              "    <tr>\n",
              "      <th>878</th>\n",
              "      <td>2929</td>\n",
              "      <td>167286.828102</td>\n",
              "    </tr>\n",
              "  </tbody>\n",
              "</table>\n",
              "<p>879 rows × 2 columns</p>\n",
              "</div>\n",
              "      <button class=\"colab-df-convert\" onclick=\"convertToInteractive('df-c6f196cc-a2b7-4ee4-bd62-93cc00893a87')\"\n",
              "              title=\"Convert this dataframe to an interactive table.\"\n",
              "              style=\"display:none;\">\n",
              "        \n",
              "  <svg xmlns=\"http://www.w3.org/2000/svg\" height=\"24px\"viewBox=\"0 0 24 24\"\n",
              "       width=\"24px\">\n",
              "    <path d=\"M0 0h24v24H0V0z\" fill=\"none\"/>\n",
              "    <path d=\"M18.56 5.44l.94 2.06.94-2.06 2.06-.94-2.06-.94-.94-2.06-.94 2.06-2.06.94zm-11 1L8.5 8.5l.94-2.06 2.06-.94-2.06-.94L8.5 2.5l-.94 2.06-2.06.94zm10 10l.94 2.06.94-2.06 2.06-.94-2.06-.94-.94-2.06-.94 2.06-2.06.94z\"/><path d=\"M17.41 7.96l-1.37-1.37c-.4-.4-.92-.59-1.43-.59-.52 0-1.04.2-1.43.59L10.3 9.45l-7.72 7.72c-.78.78-.78 2.05 0 2.83L4 21.41c.39.39.9.59 1.41.59.51 0 1.02-.2 1.41-.59l7.78-7.78 2.81-2.81c.8-.78.8-2.07 0-2.86zM5.41 20L4 18.59l7.72-7.72 1.47 1.35L5.41 20z\"/>\n",
              "  </svg>\n",
              "      </button>\n",
              "      \n",
              "  <style>\n",
              "    .colab-df-container {\n",
              "      display:flex;\n",
              "      flex-wrap:wrap;\n",
              "      gap: 12px;\n",
              "    }\n",
              "\n",
              "    .colab-df-convert {\n",
              "      background-color: #E8F0FE;\n",
              "      border: none;\n",
              "      border-radius: 50%;\n",
              "      cursor: pointer;\n",
              "      display: none;\n",
              "      fill: #1967D2;\n",
              "      height: 32px;\n",
              "      padding: 0 0 0 0;\n",
              "      width: 32px;\n",
              "    }\n",
              "\n",
              "    .colab-df-convert:hover {\n",
              "      background-color: #E2EBFA;\n",
              "      box-shadow: 0px 1px 2px rgba(60, 64, 67, 0.3), 0px 1px 3px 1px rgba(60, 64, 67, 0.15);\n",
              "      fill: #174EA6;\n",
              "    }\n",
              "\n",
              "    [theme=dark] .colab-df-convert {\n",
              "      background-color: #3B4455;\n",
              "      fill: #D2E3FC;\n",
              "    }\n",
              "\n",
              "    [theme=dark] .colab-df-convert:hover {\n",
              "      background-color: #434B5C;\n",
              "      box-shadow: 0px 1px 3px 1px rgba(0, 0, 0, 0.15);\n",
              "      filter: drop-shadow(0px 1px 2px rgba(0, 0, 0, 0.3));\n",
              "      fill: #FFFFFF;\n",
              "    }\n",
              "  </style>\n",
              "\n",
              "      <script>\n",
              "        const buttonEl =\n",
              "          document.querySelector('#df-c6f196cc-a2b7-4ee4-bd62-93cc00893a87 button.colab-df-convert');\n",
              "        buttonEl.style.display =\n",
              "          google.colab.kernel.accessAllowed ? 'block' : 'none';\n",
              "\n",
              "        async function convertToInteractive(key) {\n",
              "          const element = document.querySelector('#df-c6f196cc-a2b7-4ee4-bd62-93cc00893a87');\n",
              "          const dataTable =\n",
              "            await google.colab.kernel.invokeFunction('convertToInteractive',\n",
              "                                                     [key], {});\n",
              "          if (!dataTable) return;\n",
              "\n",
              "          const docLinkHtml = 'Like what you see? Visit the ' +\n",
              "            '<a target=\"_blank\" href=https://colab.research.google.com/notebooks/data_table.ipynb>data table notebook</a>'\n",
              "            + ' to learn more about interactive tables.';\n",
              "          element.innerHTML = '';\n",
              "          dataTable['output_type'] = 'display_data';\n",
              "          await google.colab.output.renderOutput(dataTable, element);\n",
              "          const docLink = document.createElement('div');\n",
              "          docLink.innerHTML = docLinkHtml;\n",
              "          element.appendChild(docLink);\n",
              "        }\n",
              "      </script>\n",
              "    </div>\n",
              "  </div>\n",
              "  "
            ],
            "text/plain": [
              "       ID      SalePrice\n",
              "0    2051  212608.536099\n",
              "1    2052  263879.196047\n",
              "2    2053  176704.971649\n",
              "3    2054  189170.763708\n",
              "4    2055  243863.331277\n",
              "..    ...            ...\n",
              "874  2925  284157.503528\n",
              "875  2926  220529.067214\n",
              "876  2927  186837.832417\n",
              "877  2928  175274.655360\n",
              "878  2929  167286.828102\n",
              "\n",
              "[879 rows x 2 columns]"
            ]
          },
          "execution_count": 205,
          "metadata": {},
          "output_type": "execute_result"
        }
      ],
      "source": [
        "preds = stacked_pred\n",
        "sub = pd.DataFrame({'ID':test_ID,'SalePrice':preds})"
      ]
    },
    {
      "cell_type": "code",
      "execution_count": null,
      "metadata": {
        "id": "anh3j-X5SfS_"
      },
      "outputs": [],
      "source": [
        "# sub.to_csv('sub.csv',index = False)"
      ]
    },
    {
      "cell_type": "markdown",
      "metadata": {
        "id": "kGhWwKB8-YSd"
      },
      "source": [
        "## Final Submission"
      ]
    },
    {
      "cell_type": "code",
      "execution_count": null,
      "metadata": {
        "id": "wszzEBKdSgs8"
      },
      "outputs": [],
      "source": [
        "from google.colab import files\n",
        "sub_au.to_csv('submission.csv',index = False)\n",
        "files.download('submission.csv')"
      ]
    }
  ],
  "metadata": {
    "anaconda-cloud": {},
    "colab": {
      "collapsed_sections": [],
      "name": "Final_Final_Final.ipynb",
      "provenance": []
    },
    "kernelspec": {
      "display_name": "Python 3 (ipykernel)",
      "language": "python",
      "name": "python3"
    },
    "language_info": {
      "codemirror_mode": {
        "name": "ipython",
        "version": 3
      },
      "file_extension": ".py",
      "mimetype": "text/x-python",
      "name": "python",
      "nbconvert_exporter": "python",
      "pygments_lexer": "ipython3",
      "version": "3.9.7"
    }
  },
  "nbformat": 4,
  "nbformat_minor": 0
}